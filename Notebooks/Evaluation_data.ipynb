{
 "cells": [
  {
   "cell_type": "code",
   "execution_count": 30,
   "id": "55c02028-ce46-411e-bd1c-449a6e55bf83",
   "metadata": {},
   "outputs": [],
   "source": [
    "import json\n",
    "import pandas as pd"
   ]
  },
  {
   "cell_type": "code",
   "execution_count": 2,
   "id": "9dbf17c4-fc31-43d8-8adf-9a18ba6af54c",
   "metadata": {},
   "outputs": [],
   "source": [
    "df = pd.read_csv('../Data/Final_data.csv')"
   ]
  },
  {
   "cell_type": "code",
   "execution_count": 3,
   "id": "b75545a7-25cf-4b59-af62-3ab9f3002f6f",
   "metadata": {},
   "outputs": [
    {
     "data": {
      "text/html": [
       "<div>\n",
       "<style scoped>\n",
       "    .dataframe tbody tr th:only-of-type {\n",
       "        vertical-align: middle;\n",
       "    }\n",
       "\n",
       "    .dataframe tbody tr th {\n",
       "        vertical-align: top;\n",
       "    }\n",
       "\n",
       "    .dataframe thead th {\n",
       "        text-align: right;\n",
       "    }\n",
       "</style>\n",
       "<table border=\"1\" class=\"dataframe\">\n",
       "  <thead>\n",
       "    <tr style=\"text-align: right;\">\n",
       "      <th></th>\n",
       "      <th>ids</th>\n",
       "      <th>question</th>\n",
       "      <th>answer</th>\n",
       "    </tr>\n",
       "  </thead>\n",
       "  <tbody>\n",
       "    <tr>\n",
       "      <th>0</th>\n",
       "      <td>0</td>\n",
       "      <td>Can we hang out tomorrow?</td>\n",
       "      <td>I'd love that! Let's make some plans.</td>\n",
       "    </tr>\n",
       "    <tr>\n",
       "      <th>1</th>\n",
       "      <td>1</td>\n",
       "      <td>Is there something you're not telling me?</td>\n",
       "      <td>No, but sometimes I worry you might not trust me.</td>\n",
       "    </tr>\n",
       "    <tr>\n",
       "      <th>2</th>\n",
       "      <td>2</td>\n",
       "      <td>What did you dream about?</td>\n",
       "      <td>I dreamed about us, it was beautiful.</td>\n",
       "    </tr>\n",
       "    <tr>\n",
       "      <th>3</th>\n",
       "      <td>3</td>\n",
       "      <td>Why don't you trust me?</td>\n",
       "      <td>It's not that I don't trust you, I just need s...</td>\n",
       "    </tr>\n",
       "    <tr>\n",
       "      <th>4</th>\n",
       "      <td>5</td>\n",
       "      <td>How was your day?</td>\n",
       "      <td>It was good! How about yours?</td>\n",
       "    </tr>\n",
       "    <tr>\n",
       "      <th>...</th>\n",
       "      <td>...</td>\n",
       "      <td>...</td>\n",
       "      <td>...</td>\n",
       "    </tr>\n",
       "    <tr>\n",
       "      <th>633</th>\n",
       "      <td>761</td>\n",
       "      <td>What's your biggest fear about discussing our ...</td>\n",
       "      <td>Making mistakes... but I trust us to learn and...</td>\n",
       "    </tr>\n",
       "    <tr>\n",
       "      <th>634</th>\n",
       "      <td>762</td>\n",
       "      <td>What's your favorite thing about how we balanc...</td>\n",
       "      <td>The way we prioritize our connection while res...</td>\n",
       "    </tr>\n",
       "    <tr>\n",
       "      <th>635</th>\n",
       "      <td>763</td>\n",
       "      <td>How do you handle differences in our sleep hab...</td>\n",
       "      <td>By finding compromises that allow us both to f...</td>\n",
       "    </tr>\n",
       "    <tr>\n",
       "      <th>636</th>\n",
       "      <td>764</td>\n",
       "      <td>Do you ever feel like you're not adventurous e...</td>\n",
       "      <td>Sometimes... but you appreciate the stability ...</td>\n",
       "    </tr>\n",
       "    <tr>\n",
       "      <th>637</th>\n",
       "      <td>765</td>\n",
       "      <td>How important is it to maintain a sense of pla...</td>\n",
       "      <td>It's crucial... laughter and fun keep our bond...</td>\n",
       "    </tr>\n",
       "  </tbody>\n",
       "</table>\n",
       "<p>638 rows × 3 columns</p>\n",
       "</div>"
      ],
      "text/plain": [
       "     ids                                           question  \\\n",
       "0      0                          Can we hang out tomorrow?   \n",
       "1      1          Is there something you're not telling me?   \n",
       "2      2                          What did you dream about?   \n",
       "3      3                            Why don't you trust me?   \n",
       "4      5                                  How was your day?   \n",
       "..   ...                                                ...   \n",
       "633  761  What's your biggest fear about discussing our ...   \n",
       "634  762  What's your favorite thing about how we balanc...   \n",
       "635  763  How do you handle differences in our sleep hab...   \n",
       "636  764  Do you ever feel like you're not adventurous e...   \n",
       "637  765  How important is it to maintain a sense of pla...   \n",
       "\n",
       "                                                answer  \n",
       "0                I'd love that! Let's make some plans.  \n",
       "1    No, but sometimes I worry you might not trust me.  \n",
       "2                I dreamed about us, it was beautiful.  \n",
       "3    It's not that I don't trust you, I just need s...  \n",
       "4                        It was good! How about yours?  \n",
       "..                                                 ...  \n",
       "633  Making mistakes... but I trust us to learn and...  \n",
       "634  The way we prioritize our connection while res...  \n",
       "635  By finding compromises that allow us both to f...  \n",
       "636  Sometimes... but you appreciate the stability ...  \n",
       "637  It's crucial... laughter and fun keep our bond...  \n",
       "\n",
       "[638 rows x 3 columns]"
      ]
     },
     "execution_count": 3,
     "metadata": {},
     "output_type": "execute_result"
    }
   ],
   "source": [
    "df"
   ]
  },
  {
   "cell_type": "code",
   "execution_count": 8,
   "id": "4aecc8e6-6868-4567-88a5-b0b217e11a15",
   "metadata": {},
   "outputs": [],
   "source": [
    "prompt_template = \"\"\"\n",
    "You emulate a user who's using our application.\n",
    "Formulate 5 questions this user might ask based on record. The record\n",
    "should contain the answer to the questions, and the questions should be complete and not too short.\n",
    "If possible, use as fewer words as possible from the record. \n",
    "\n",
    "The record:\n",
    "\n",
    "question: {question}\n",
    "answer: {text}\n",
    "\n",
    "Provide the output in parsable JSON without using code blocks:\n",
    "\n",
    "[\"question1\", \"question2\", ..., \"question5\"]\n",
    "\"\"\".strip()"
   ]
  },
  {
   "cell_type": "code",
   "execution_count": 9,
   "id": "4e3d828f-8b4e-494d-b3e7-229efa3e3a66",
   "metadata": {},
   "outputs": [],
   "source": [
    "from langchain_core.prompts import ChatPromptTemplate\n",
    "from langchain_ollama.llms import OllamaLLM"
   ]
  },
  {
   "cell_type": "code",
   "execution_count": 10,
   "id": "9e7d2e2e-db8d-4b44-92ac-bbabc2a6b986",
   "metadata": {},
   "outputs": [],
   "source": [
    "prompt = ChatPromptTemplate.from_template(prompt_template)"
   ]
  },
  {
   "cell_type": "code",
   "execution_count": 12,
   "id": "31ab4cfe-7011-481c-8637-7870330f6e10",
   "metadata": {},
   "outputs": [],
   "source": [
    "model = OllamaLLM(model=\"mistral\",temparature=0)\n",
    "\n",
    "chain = prompt | model"
   ]
  },
  {
   "cell_type": "code",
   "execution_count": 13,
   "id": "2f4f9d7e-cd43-485b-aaba-2f35c9026643",
   "metadata": {},
   "outputs": [],
   "source": [
    "def llm_gen(query,answer):\n",
    "    res = chain.invoke({\"question\": query,\"text\":answer})\n",
    "    return res"
   ]
  },
  {
   "cell_type": "code",
   "execution_count": 14,
   "id": "4e9069d3-1e80-4894-9cd2-33d94b32d76b",
   "metadata": {},
   "outputs": [],
   "source": [
    "documents = df.to_dict(orient='records')"
   ]
  },
  {
   "cell_type": "code",
   "execution_count": 21,
   "id": "2e3e5f1d-275d-4ee7-a633-b684003d38cd",
   "metadata": {},
   "outputs": [
    {
     "data": {
      "text/plain": [
       "{'ids': 1,\n",
       " 'question': \"Is there something you're not telling me?\",\n",
       " 'answer': 'No, but sometimes I worry you might not trust me.'}"
      ]
     },
     "execution_count": 21,
     "metadata": {},
     "output_type": "execute_result"
    }
   ],
   "source": [
    "documents[1]"
   ]
  },
  {
   "cell_type": "code",
   "execution_count": 22,
   "id": "496f68d8-ea2b-49c7-8802-c6c6c824b13d",
   "metadata": {},
   "outputs": [],
   "source": [
    "res = llm_gen(documents[1]['question'],documents[1]['answer'])"
   ]
  },
  {
   "cell_type": "code",
   "execution_count": 23,
   "id": "75ad0dcf-ecf9-430b-8cfa-a2b2bbfbbbed",
   "metadata": {},
   "outputs": [
    {
     "name": "stdout",
     "output_type": "stream",
     "text": [
      " [\n",
      "  \"Are you ever concerned that I don't trust you?\",\n",
      "  \"Have there been instances where you felt I might not fully trust you?\",\n",
      "  \"Do you sometimes feel unsure about my level of trust in you?\",\n",
      "  \"In what ways do you worry that I might not trust you?\",\n",
      "  \"Can you elaborate on the situations where you worry I might not trust you?\"\n",
      "]\n"
     ]
    }
   ],
   "source": [
    "print(res)"
   ]
  },
  {
   "cell_type": "code",
   "execution_count": 24,
   "id": "5b7441a7-fc79-4737-b7d2-4cf03b0505d3",
   "metadata": {},
   "outputs": [
    {
     "name": "stderr",
     "output_type": "stream",
     "text": [
      "C:\\My Files\\VirtualENV\\Half\\Half_girlfriend\\venv\\Lib\\site-packages\\tqdm\\auto.py:21: TqdmWarning: IProgress not found. Please update jupyter and ipywidgets. See https://ipywidgets.readthedocs.io/en/stable/user_install.html\n",
      "  from .autonotebook import tqdm as notebook_tqdm\n"
     ]
    }
   ],
   "source": [
    "from tqdm.auto import tqdm"
   ]
  },
  {
   "cell_type": "code",
   "execution_count": 25,
   "id": "61b48e7a-354f-458b-b589-00288bba5909",
   "metadata": {},
   "outputs": [],
   "source": [
    "results = {}"
   ]
  },
  {
   "cell_type": "code",
   "execution_count": 34,
   "id": "731c147c-4cf4-4be6-8ad9-cb7d8b38f91b",
   "metadata": {},
   "outputs": [
    {
     "name": "stderr",
     "output_type": "stream",
     "text": [
      "  1%|█▎                                                                                       | 9/638 [03:29<4:04:06, 23.28s/it]\n",
      "\n",
      "KeyboardInterrupt\n",
      "\n"
     ]
    }
   ],
   "source": [
    "for doc in tqdm(documents): \n",
    "    doc_id = doc['ids']\n",
    "    if doc_id in results:\n",
    "        continue\n",
    "\n",
    "    questions = llm_gen(doc['question'],doc['answer'])\n",
    "    results[doc_id] = questions"
   ]
  },
  {
   "cell_type": "code",
   "execution_count": 36,
   "id": "b84671b6-2163-4923-ad19-49e7af8bbe8d",
   "metadata": {},
   "outputs": [],
   "source": [
    "parsed_resulst = {}\n",
    "\n",
    "for doc_id, json_questions in results.items():\n",
    "    parsed_resulst[doc_id] = json.loads(json_questions)"
   ]
  },
  {
   "cell_type": "code",
   "execution_count": 38,
   "id": "1b597f90-2ac5-48c3-9e32-e7e718617851",
   "metadata": {},
   "outputs": [],
   "source": [
    "doc_index = {d['ids']: d for d in documents}"
   ]
  },
  {
   "cell_type": "code",
   "execution_count": 39,
   "id": "a4ca0a35-1a2f-47c8-bc91-c60604061a90",
   "metadata": {},
   "outputs": [],
   "source": [
    "final_results = []\n",
    "\n",
    "for doc_id, questions in parsed_resulst.items():\n",
    "    for q in questions:\n",
    "        final_results.append((q, doc_id))"
   ]
  },
  {
   "cell_type": "code",
   "execution_count": 40,
   "id": "051845b0-f2e4-4e18-8ed0-92fcb8227332",
   "metadata": {},
   "outputs": [],
   "source": [
    "df = pd.DataFrame(final_results, columns=['question', 'ids'])"
   ]
  },
  {
   "cell_type": "code",
   "execution_count": 41,
   "id": "5d9d2658-5716-4c6f-ad73-498b4130784e",
   "metadata": {},
   "outputs": [],
   "source": [
    "df.to_csv('evaluation-data.csv', index=False)"
   ]
  },
  {
   "cell_type": "code",
   "execution_count": null,
   "id": "42e90242-03e4-4489-8ff2-250aff561aa9",
   "metadata": {},
   "outputs": [],
   "source": []
  }
 ],
 "metadata": {
  "kernelspec": {
   "display_name": "Python 3 (ipykernel)",
   "language": "python",
   "name": "python3"
  },
  "language_info": {
   "codemirror_mode": {
    "name": "ipython",
    "version": 3
   },
   "file_extension": ".py",
   "mimetype": "text/x-python",
   "name": "python",
   "nbconvert_exporter": "python",
   "pygments_lexer": "ipython3",
   "version": "3.11.0"
  }
 },
 "nbformat": 4,
 "nbformat_minor": 5
}
