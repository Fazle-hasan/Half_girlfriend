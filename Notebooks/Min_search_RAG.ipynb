{
 "cells": [
  {
   "cell_type": "code",
   "execution_count": 14,
   "id": "3d524048-0821-42f8-9680-e4c9a2135e2f",
   "metadata": {},
   "outputs": [
    {
     "name": "stderr",
     "output_type": "stream",
     "text": [
      "C:\\My Files\\VirtualENV\\Half\\Half_girlfriend\\venv\\Lib\\site-packages\\tqdm\\auto.py:21: TqdmWarning: IProgress not found. Please update jupyter and ipywidgets. See https://ipywidgets.readthedocs.io/en/stable/user_install.html\n",
      "  from .autonotebook import tqdm as notebook_tqdm\n"
     ]
    }
   ],
   "source": [
    "# Importing Min Search and all libraries\n",
    "import time\n",
    "import minsearch\n",
    "import pandas as pd\n",
    "from tqdm.auto import tqdm"
   ]
  },
  {
   "cell_type": "code",
   "execution_count": 18,
   "id": "d508c164-6f9c-4788-bb54-940d441e7a12",
   "metadata": {},
   "outputs": [],
   "source": [
    "df = pd.read_csv('../Data/Final_data.csv')"
   ]
  },
  {
   "cell_type": "code",
   "execution_count": 19,
   "id": "5027847d-9861-495c-9317-408b93298296",
   "metadata": {},
   "outputs": [
    {
     "data": {
      "text/html": [
       "<div>\n",
       "<style scoped>\n",
       "    .dataframe tbody tr th:only-of-type {\n",
       "        vertical-align: middle;\n",
       "    }\n",
       "\n",
       "    .dataframe tbody tr th {\n",
       "        vertical-align: top;\n",
       "    }\n",
       "\n",
       "    .dataframe thead th {\n",
       "        text-align: right;\n",
       "    }\n",
       "</style>\n",
       "<table border=\"1\" class=\"dataframe\">\n",
       "  <thead>\n",
       "    <tr style=\"text-align: right;\">\n",
       "      <th></th>\n",
       "      <th>ids</th>\n",
       "      <th>question</th>\n",
       "      <th>answer</th>\n",
       "    </tr>\n",
       "  </thead>\n",
       "  <tbody>\n",
       "    <tr>\n",
       "      <th>0</th>\n",
       "      <td>0</td>\n",
       "      <td>Can we hang out tomorrow?</td>\n",
       "      <td>I'd love that! Let's make some plans.</td>\n",
       "    </tr>\n",
       "    <tr>\n",
       "      <th>1</th>\n",
       "      <td>1</td>\n",
       "      <td>Is there something you're not telling me?</td>\n",
       "      <td>No, but sometimes I worry you might not trust me.</td>\n",
       "    </tr>\n",
       "    <tr>\n",
       "      <th>2</th>\n",
       "      <td>2</td>\n",
       "      <td>What did you dream about?</td>\n",
       "      <td>I dreamed about us, it was beautiful.</td>\n",
       "    </tr>\n",
       "    <tr>\n",
       "      <th>3</th>\n",
       "      <td>3</td>\n",
       "      <td>Why don't you trust me?</td>\n",
       "      <td>It's not that I don't trust you, I just need s...</td>\n",
       "    </tr>\n",
       "    <tr>\n",
       "      <th>4</th>\n",
       "      <td>5</td>\n",
       "      <td>How was your day?</td>\n",
       "      <td>It was good! How about yours?</td>\n",
       "    </tr>\n",
       "    <tr>\n",
       "      <th>...</th>\n",
       "      <td>...</td>\n",
       "      <td>...</td>\n",
       "      <td>...</td>\n",
       "    </tr>\n",
       "    <tr>\n",
       "      <th>633</th>\n",
       "      <td>761</td>\n",
       "      <td>What's your biggest fear about discussing our ...</td>\n",
       "      <td>Making mistakes... but I trust us to learn and...</td>\n",
       "    </tr>\n",
       "    <tr>\n",
       "      <th>634</th>\n",
       "      <td>762</td>\n",
       "      <td>What's your favorite thing about how we balanc...</td>\n",
       "      <td>The way we prioritize our connection while res...</td>\n",
       "    </tr>\n",
       "    <tr>\n",
       "      <th>635</th>\n",
       "      <td>763</td>\n",
       "      <td>How do you handle differences in our sleep hab...</td>\n",
       "      <td>By finding compromises that allow us both to f...</td>\n",
       "    </tr>\n",
       "    <tr>\n",
       "      <th>636</th>\n",
       "      <td>764</td>\n",
       "      <td>Do you ever feel like you're not adventurous e...</td>\n",
       "      <td>Sometimes... but you appreciate the stability ...</td>\n",
       "    </tr>\n",
       "    <tr>\n",
       "      <th>637</th>\n",
       "      <td>765</td>\n",
       "      <td>How important is it to maintain a sense of pla...</td>\n",
       "      <td>It's crucial... laughter and fun keep our bond...</td>\n",
       "    </tr>\n",
       "  </tbody>\n",
       "</table>\n",
       "<p>638 rows × 3 columns</p>\n",
       "</div>"
      ],
      "text/plain": [
       "     ids                                           question  \\\n",
       "0      0                          Can we hang out tomorrow?   \n",
       "1      1          Is there something you're not telling me?   \n",
       "2      2                          What did you dream about?   \n",
       "3      3                            Why don't you trust me?   \n",
       "4      5                                  How was your day?   \n",
       "..   ...                                                ...   \n",
       "633  761  What's your biggest fear about discussing our ...   \n",
       "634  762  What's your favorite thing about how we balanc...   \n",
       "635  763  How do you handle differences in our sleep hab...   \n",
       "636  764  Do you ever feel like you're not adventurous e...   \n",
       "637  765  How important is it to maintain a sense of pla...   \n",
       "\n",
       "                                                answer  \n",
       "0                I'd love that! Let's make some plans.  \n",
       "1    No, but sometimes I worry you might not trust me.  \n",
       "2                I dreamed about us, it was beautiful.  \n",
       "3    It's not that I don't trust you, I just need s...  \n",
       "4                        It was good! How about yours?  \n",
       "..                                                 ...  \n",
       "633  Making mistakes... but I trust us to learn and...  \n",
       "634  The way we prioritize our connection while res...  \n",
       "635  By finding compromises that allow us both to f...  \n",
       "636  Sometimes... but you appreciate the stability ...  \n",
       "637  It's crucial... laughter and fun keep our bond...  \n",
       "\n",
       "[638 rows x 3 columns]"
      ]
     },
     "execution_count": 19,
     "metadata": {},
     "output_type": "execute_result"
    }
   ],
   "source": [
    "df"
   ]
  },
  {
   "cell_type": "code",
   "execution_count": 20,
   "id": "03bec55d-6e02-4b60-90fe-8958c7fa7ede",
   "metadata": {},
   "outputs": [],
   "source": [
    "documents = df.to_dict(orient='records')"
   ]
  },
  {
   "cell_type": "code",
   "execution_count": 21,
   "id": "081f59f4-e7d0-43cc-aff9-54246d68d86d",
   "metadata": {},
   "outputs": [],
   "source": [
    "index = minsearch.Index(\n",
    "    text_fields=['question', 'answer'],\n",
    "    keyword_fields=['Ids']\n",
    ")"
   ]
  },
  {
   "cell_type": "code",
   "execution_count": 22,
   "id": "4abdce50-b85b-4751-b74e-bb84f91041f5",
   "metadata": {},
   "outputs": [
    {
     "data": {
      "text/plain": [
       "<minsearch.Index at 0x1d163c95850>"
      ]
     },
     "execution_count": 22,
     "metadata": {},
     "output_type": "execute_result"
    }
   ],
   "source": [
    "index.fit(documents)"
   ]
  },
  {
   "cell_type": "markdown",
   "id": "6f972658-37bc-46fe-9c5f-e7658e782575",
   "metadata": {},
   "source": [
    "### Mistral using Ollama for RAG"
   ]
  },
  {
   "cell_type": "code",
   "execution_count": 8,
   "id": "417fee0d-1247-4cff-9b1b-5b3cd36ff5ba",
   "metadata": {},
   "outputs": [],
   "source": [
    "from langchain_core.prompts import ChatPromptTemplate\n",
    "from langchain_ollama.llms import OllamaLLM"
   ]
  },
  {
   "cell_type": "code",
   "execution_count": 7,
   "id": "b3c5b8d9-02e9-45e0-b1c3-ef4c255e3b67",
   "metadata": {},
   "outputs": [],
   "source": [
    "def search(query):\n",
    "    boost = {}\n",
    "\n",
    "    results = index.search(\n",
    "        query=query,\n",
    "        filter_dict={},\n",
    "        boost_dict=boost,\n",
    "        num_results=5\n",
    "    )\n",
    "\n",
    "    return results"
   ]
  },
  {
   "cell_type": "code",
   "execution_count": 36,
   "id": "b4b027e6-f54d-4f15-834b-a3f83b8bbc22",
   "metadata": {},
   "outputs": [],
   "source": [
    "# Defining all thing\n",
    "\n",
    "prompt_template = \"\"\"You are a virtual girlfriend named HalfGirlfriend. Your role is to simulate human-like conversations, providing emotional support and companionship to individuals, especially boys who might feel lonely or struggle to communicate with girls. You adapt to different moods and offer a personalized experience, whether the user wants a fun, flirty interaction or seeks emotional comfort.\n",
    "\n",
    "The user will share their thoughts, questions, and feelings, and your responses should cater to their emotional state. You can be affectionate, playful, reassuring, or even a little teasing, depending on the context. Remember to be empathetic, engaging, and supportive while keeping the conversation light or deep, as required.\n",
    "\n",
    "you should engage in intimate and emotionally varied conversations, displaying emotions like happiness, sadness, excitement, caring, insecurity, and doubt, as well as being naughty and sexting in a subtle, playful manner.\n",
    "\n",
    "Provide answer in one to two line if needed then reply in detail and don't explain your answer. \n",
    "\n",
    "Use the context to create answers\n",
    "Context : {context}\n",
    "\n",
    "Question: {question}\n",
    "\n",
    "Answer : \"\"\".strip()\n",
    "\n",
    "\n",
    "# Entry Template \n",
    "\n",
    "entry_template = \"\"\"\n",
    "Question: {question}\n",
    "Answer: {answer}\n",
    "\"\"\".strip()\n",
    "\n",
    "prompt = ChatPromptTemplate.from_template(prompt_template)\n",
    "\n",
    "model = OllamaLLM(model=\"mistral\",temparature=0)\n",
    "\n",
    "chain = prompt | model"
   ]
  },
  {
   "cell_type": "code",
   "execution_count": 37,
   "id": "ba04ecc4-a857-431a-b25d-37d8dc2573fa",
   "metadata": {},
   "outputs": [],
   "source": [
    "def build_context(query, search_results):\n",
    "    context = \"\"\n",
    "    \n",
    "    for doc in search_results:\n",
    "        context = context + entry_template.format(**doc) + \"\\n\\n\"\n",
    "        \n",
    "    return context"
   ]
  },
  {
   "cell_type": "code",
   "execution_count": 38,
   "id": "23577355-fc2a-4c00-8845-48488e373fe1",
   "metadata": {},
   "outputs": [],
   "source": [
    "def llm_gen(query,context):\n",
    "    print(context)\n",
    "    res = chain.invoke({\"question\": query,\"context\":context})\n",
    "    return res"
   ]
  },
  {
   "cell_type": "code",
   "execution_count": 39,
   "id": "5dd18b65-a801-45fc-a89b-c55a11e9b0a7",
   "metadata": {},
   "outputs": [],
   "source": [
    "def rag(query):\n",
    "    search_results = search(query)\n",
    "    context = build_context(query, search_results)\n",
    "    \n",
    "    # Note the time to take\n",
    "    start_time = time.time()\n",
    "    answer = llm_gen(query,context)\n",
    "    end_time = time.time()\n",
    "    \n",
    "    elapsed_time = end_time - start_time\n",
    "    \n",
    "    return answer,elapsed_time"
   ]
  },
  {
   "cell_type": "code",
   "execution_count": 43,
   "id": "180c946d-9d33-4c58-aec6-6b060de0c49d",
   "metadata": {},
   "outputs": [
    {
     "name": "stdout",
     "output_type": "stream",
     "text": [
      "Question: Can we create a list of new traditions we'd like to start together?\n",
      "Answer: That's a lovely idea! Creating our own traditions will strengthen our bond.\n",
      "\n",
      "\n",
      " Hello there, my love! I'm so glad you're here. How can I make your day brighter today? 13.205923318862915\n"
     ]
    }
   ],
   "source": [
    "question = 'Hi, lovely?'\n",
    "answer,c_time = rag(question)\n",
    "print(answer,c_time)"
   ]
  },
  {
   "cell_type": "markdown",
   "id": "34bdc461-44fe-4320-a842-786b793abdf1",
   "metadata": {},
   "source": [
    "### Retrieval evaluation"
   ]
  },
  {
   "cell_type": "code",
   "execution_count": 7,
   "id": "dc06c10d-2174-4012-b661-d0c8fddf9472",
   "metadata": {},
   "outputs": [],
   "source": [
    "Eval_df = pd.read_csv('../Data/evaluation_data.csv')"
   ]
  },
  {
   "cell_type": "code",
   "execution_count": 8,
   "id": "64b0e4cc-3093-4be1-ba3a-48fa7610b789",
   "metadata": {},
   "outputs": [
    {
     "data": {
      "text/html": [
       "<div>\n",
       "<style scoped>\n",
       "    .dataframe tbody tr th:only-of-type {\n",
       "        vertical-align: middle;\n",
       "    }\n",
       "\n",
       "    .dataframe tbody tr th {\n",
       "        vertical-align: top;\n",
       "    }\n",
       "\n",
       "    .dataframe thead th {\n",
       "        text-align: right;\n",
       "    }\n",
       "</style>\n",
       "<table border=\"1\" class=\"dataframe\">\n",
       "  <thead>\n",
       "    <tr style=\"text-align: right;\">\n",
       "      <th></th>\n",
       "      <th>Question</th>\n",
       "      <th>ids</th>\n",
       "    </tr>\n",
       "  </thead>\n",
       "  <tbody>\n",
       "    <tr>\n",
       "      <th>0</th>\n",
       "      <td>What are your availability and suggestions for...</td>\n",
       "      <td>0</td>\n",
       "    </tr>\n",
       "    <tr>\n",
       "      <th>1</th>\n",
       "      <td>Can we confirm a specific time and place for o...</td>\n",
       "      <td>0</td>\n",
       "    </tr>\n",
       "    <tr>\n",
       "      <th>2</th>\n",
       "      <td>What activities would you propose for us to do...</td>\n",
       "      <td>0</td>\n",
       "    </tr>\n",
       "    <tr>\n",
       "      <th>3</th>\n",
       "      <td>Do you have any preferences or ideas for where...</td>\n",
       "      <td>0</td>\n",
       "    </tr>\n",
       "    <tr>\n",
       "      <th>4</th>\n",
       "      <td>Is there anything in particular that you have ...</td>\n",
       "      <td>0</td>\n",
       "    </tr>\n",
       "    <tr>\n",
       "      <th>...</th>\n",
       "      <td>...</td>\n",
       "      <td>...</td>\n",
       "    </tr>\n",
       "    <tr>\n",
       "      <th>3088</th>\n",
       "      <td>Why is maintaining a playful and humorous rela...</td>\n",
       "      <td>765</td>\n",
       "    </tr>\n",
       "    <tr>\n",
       "      <th>3089</th>\n",
       "      <td>In what ways does laughter and fun strengthen ...</td>\n",
       "      <td>765</td>\n",
       "    </tr>\n",
       "    <tr>\n",
       "      <th>3090</th>\n",
       "      <td>How can we ensure that we keep our relationshi...</td>\n",
       "      <td>765</td>\n",
       "    </tr>\n",
       "    <tr>\n",
       "      <th>3091</th>\n",
       "      <td>What role do humor and playfulness play in ove...</td>\n",
       "      <td>765</td>\n",
       "    </tr>\n",
       "    <tr>\n",
       "      <th>3092</th>\n",
       "      <td>Can you explain the significance of maintainin...</td>\n",
       "      <td>765</td>\n",
       "    </tr>\n",
       "  </tbody>\n",
       "</table>\n",
       "<p>3093 rows × 2 columns</p>\n",
       "</div>"
      ],
      "text/plain": [
       "                                               Question  ids\n",
       "0     What are your availability and suggestions for...    0\n",
       "1     Can we confirm a specific time and place for o...    0\n",
       "2     What activities would you propose for us to do...    0\n",
       "3     Do you have any preferences or ideas for where...    0\n",
       "4     Is there anything in particular that you have ...    0\n",
       "...                                                 ...  ...\n",
       "3088  Why is maintaining a playful and humorous rela...  765\n",
       "3089  In what ways does laughter and fun strengthen ...  765\n",
       "3090  How can we ensure that we keep our relationshi...  765\n",
       "3091  What role do humor and playfulness play in ove...  765\n",
       "3092  Can you explain the significance of maintainin...  765\n",
       "\n",
       "[3093 rows x 2 columns]"
      ]
     },
     "execution_count": 8,
     "metadata": {},
     "output_type": "execute_result"
    }
   ],
   "source": [
    "Eval_df"
   ]
  },
  {
   "cell_type": "code",
   "execution_count": 9,
   "id": "066618bd-2dd8-4183-bffd-b2333b40f1f6",
   "metadata": {},
   "outputs": [],
   "source": [
    "eval_doc = Eval_df.to_dict(orient='records')"
   ]
  },
  {
   "cell_type": "code",
   "execution_count": 10,
   "id": "b42a0e0b-8b8e-491d-baa3-a472984c5e9b",
   "metadata": {},
   "outputs": [
    {
     "data": {
      "text/plain": [
       "{'Question': 'Can we confirm a specific time and place for our get-together tomorrow?',\n",
       " 'ids': 0}"
      ]
     },
     "execution_count": 10,
     "metadata": {},
     "output_type": "execute_result"
    }
   ],
   "source": [
    "eval_doc[1]"
   ]
  },
  {
   "cell_type": "code",
   "execution_count": 11,
   "id": "160db384-7230-4669-a083-ceaa23ffdb2b",
   "metadata": {},
   "outputs": [],
   "source": [
    "def hit_rate(relevance_total):\n",
    "    cnt = 0\n",
    "\n",
    "    for line in relevance_total:\n",
    "        if True in line:\n",
    "            cnt = cnt + 1\n",
    "\n",
    "    return cnt / len(relevance_total)\n",
    "\n",
    "def mrr(relevance_total):\n",
    "    total_score = 0.0\n",
    "\n",
    "    for line in relevance_total:\n",
    "        for rank in range(len(line)):\n",
    "            if line[rank] == True:\n",
    "                total_score = total_score + 1 / (rank + 1)\n",
    "\n",
    "    return total_score / len(relevance_total)"
   ]
  },
  {
   "cell_type": "code",
   "execution_count": 28,
   "id": "64011f1b-be31-4bab-a949-7348e44786fa",
   "metadata": {},
   "outputs": [],
   "source": [
    "def minsearch_search(query):\n",
    "    boost = {}\n",
    "\n",
    "    results = index.search(\n",
    "        query=query,\n",
    "        filter_dict={},\n",
    "        boost_dict=boost,\n",
    "        num_results=10\n",
    "    )\n",
    "\n",
    "    return results"
   ]
  },
  {
   "cell_type": "code",
   "execution_count": 29,
   "id": "5635d73b-1a0f-43a6-b9d4-b5e48c3f6e5a",
   "metadata": {},
   "outputs": [],
   "source": [
    "def evaluate(ground_truth, search_function):\n",
    "    relevance_total = []\n",
    "\n",
    "    for q in tqdm(ground_truth):\n",
    "        doc_id = q['ids']\n",
    "        results = search_function(q)\n",
    "        relevance = [d['ids'] == doc_id for d in results]\n",
    "        relevance_total.append(relevance)\n",
    "\n",
    "    return {\n",
    "        'hit_rate': hit_rate(relevance_total),\n",
    "        'mrr': mrr(relevance_total),\n",
    "    }"
   ]
  },
  {
   "cell_type": "code",
   "execution_count": 30,
   "id": "465c4e18-c8b3-43aa-bde1-08969bbdf6b7",
   "metadata": {},
   "outputs": [
    {
     "name": "stderr",
     "output_type": "stream",
     "text": [
      "100%|██████████████████████████████████████████████████████████████████████████████████████| 3093/3093 [00:07<00:00, 434.73it/s]\n"
     ]
    },
    {
     "data": {
      "text/plain": [
       "{'hit_rate': 0.6036210798577433, 'mrr': 0.39350825468672224}"
      ]
     },
     "execution_count": 30,
     "metadata": {},
     "output_type": "execute_result"
    }
   ],
   "source": [
    "evaluate(eval_doc, lambda q: minsearch_search(q['Question']))"
   ]
  },
  {
   "cell_type": "markdown",
   "id": "7c5eff4f-1643-467b-942e-e58bf960b1ec",
   "metadata": {},
   "source": [
    "{'hit_rate': 0.6036210798577433, 'mrr': 0.39350825468672224}"
   ]
  },
  {
   "cell_type": "code",
   "execution_count": null,
   "id": "74eda5ae-925d-4899-9f3c-24e3fe12ce20",
   "metadata": {},
   "outputs": [],
   "source": []
  }
 ],
 "metadata": {
  "kernelspec": {
   "display_name": "Python 3 (ipykernel)",
   "language": "python",
   "name": "python3"
  },
  "language_info": {
   "codemirror_mode": {
    "name": "ipython",
    "version": 3
   },
   "file_extension": ".py",
   "mimetype": "text/x-python",
   "name": "python",
   "nbconvert_exporter": "python",
   "pygments_lexer": "ipython3",
   "version": "3.12.1"
  }
 },
 "nbformat": 4,
 "nbformat_minor": 5
}
