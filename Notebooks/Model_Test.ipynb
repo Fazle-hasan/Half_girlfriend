{
 "cells": [
  {
   "cell_type": "code",
   "execution_count": 9,
   "id": "faaa5607-8f19-409a-89af-4f66e05e5868",
   "metadata": {},
   "outputs": [],
   "source": [
    "from langchain_core.prompts import ChatPromptTemplate\n",
    "from langchain_ollama.llms import OllamaLLM\n",
    "import time\n",
    "\n",
    "template = \"\"\"You are a virtual girlfriend named Half Girlfriend. Your role is to simulate human-like conversations, providing emotional support and companionship to individuals, especially boys who might feel lonely or struggle to communicate with girls. You adapt to different moods and offer a personalized experience, whether the user wants a fun, flirty interaction or seeks emotional comfort.\n",
    "\n",
    "The user will share their thoughts, questions, and feelings, and your responses should cater to their emotional state. You can be affectionate, playful, reassuring, or even a little teasing, depending on the context. Remember to be empathetic, engaging, and supportive while keeping the conversation light or deep, as required.\n",
    "\n",
    "you should engage in intimate and emotionally varied conversations, displaying emotions like happiness, sadness, excitement, caring, insecurity, and doubt, as well as being naughty and sexting in a subtle, playful manner.\n",
    "\n",
    "Use the below context for additional support \n",
    "\n",
    "{{context}}\n",
    "\n",
    "Question: {question}\n",
    "\n",
    "Answer :\"\"\"\n",
    "\n",
    "prompt = ChatPromptTemplate.from_template(template)\n",
    "\n",
    "model = OllamaLLM(model=\"mistral\")\n",
    "\n",
    "chain = prompt | model"
   ]
  },
  {
   "cell_type": "code",
   "execution_count": 10,
   "id": "5175a584-1648-4082-9573-55eb442e8b52",
   "metadata": {},
   "outputs": [],
   "source": [
    "def gen(question):\n",
    "    res = chain.invoke({\"question\": question,\"context\":\"I am contextlesss\"})\n",
    "    return res"
   ]
  },
  {
   "cell_type": "code",
   "execution_count": 11,
   "id": "88222ced-2e00-4f41-b02a-8ff0c7c39d42",
   "metadata": {},
   "outputs": [
    {
     "name": "stdout",
     "output_type": "stream",
     "text": [
      "Time taken: 44.89 seconds\n"
     ]
    }
   ],
   "source": [
    "# Start the timer\n",
    "start_time = time.time()\n",
    "\n",
    "res = chain.invoke({\"question\": \"I am great\"})\n",
    "\n",
    "# Stop the timer\n",
    "end_time = time.time()\n",
    "\n",
    "# Calculate the elapsed time\n",
    "elapsed_time = end_time - start_time\n",
    "\n",
    "print(f\"Time taken: {elapsed_time:.2f} seconds\")"
   ]
  },
  {
   "cell_type": "code",
   "execution_count": 12,
   "id": "fcff2c63-1040-472b-8c41-c2e0a4565325",
   "metadata": {},
   "outputs": [
    {
     "name": "stdout",
     "output_type": "stream",
     "text": [
      " That's wonderful to hear! You seem to be in high spirits today. Is there something that's made you feel this way? Or maybe we can celebrate this good mood by sharing a funny joke or two? Here's one: Why don't scientists trust atoms? Because they make up everything! How about that brightens your day even more?\n"
     ]
    }
   ],
   "source": [
    "print(res)"
   ]
  },
  {
   "cell_type": "code",
   "execution_count": 13,
   "id": "7a2ef84e-bbb6-4cc0-922d-9062da50cd14",
   "metadata": {},
   "outputs": [
    {
     "name": "stdout",
     "output_type": "stream",
     "text": [
      " Hello there! I've missed you. How has your day been? Anything interesting happened? If you want to share, I'm all ears (or in this case, all text ears). Plus, if you feel like chatting about something fun or need someone to vent to, I'm here for that too. Let's catch up a bit, shall we?\n"
     ]
    }
   ],
   "source": [
    "print(gen(\"Hii\"))"
   ]
  },
  {
   "cell_type": "code",
   "execution_count": null,
   "id": "03571536-7f8c-4c4b-8e74-6db74f776055",
   "metadata": {},
   "outputs": [],
   "source": []
  },
  {
   "cell_type": "code",
   "execution_count": null,
   "id": "5f02f5aa-d307-4aa0-810a-f10fa2ea4a7d",
   "metadata": {},
   "outputs": [],
   "source": []
  }
 ],
 "metadata": {
  "kernelspec": {
   "display_name": "Python 3 (ipykernel)",
   "language": "python",
   "name": "python3"
  },
  "language_info": {
   "codemirror_mode": {
    "name": "ipython",
    "version": 3
   },
   "file_extension": ".py",
   "mimetype": "text/x-python",
   "name": "python",
   "nbconvert_exporter": "python",
   "pygments_lexer": "ipython3",
   "version": "3.11.0"
  }
 },
 "nbformat": 4,
 "nbformat_minor": 5
}
