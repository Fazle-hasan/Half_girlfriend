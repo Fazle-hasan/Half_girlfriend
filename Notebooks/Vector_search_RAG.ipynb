{
 "cells": [
  {
   "cell_type": "code",
   "execution_count": 2,
   "id": "1506f0bf-114b-4fbe-8bf4-f6c024019a7b",
   "metadata": {},
   "outputs": [
    {
     "name": "stderr",
     "output_type": "stream",
     "text": [
      "/workspaces/Half_girlfriend/venv/lib/python3.12/site-packages/tqdm/auto.py:21: TqdmWarning: IProgress not found. Please update jupyter and ipywidgets. See https://ipywidgets.readthedocs.io/en/stable/user_install.html\n",
      "  from .autonotebook import tqdm as notebook_tqdm\n"
     ]
    }
   ],
   "source": [
    "# Importing necessary libraries \n",
    "import time\n",
    "import json\n",
    "import re\n",
    "import pandas as pd\n",
    "from tqdm.auto import tqdm\n",
    "from qdrant_client import QdrantClient\n",
    "from langchain_core.prompts import ChatPromptTemplate\n",
    "from langchain_ollama.llms import OllamaLLM"
   ]
  },
  {
   "cell_type": "code",
   "execution_count": 2,
   "id": "8163afe1-16ce-4033-9707-bfd1721cf616",
   "metadata": {},
   "outputs": [],
   "source": [
    "qclient = QdrantClient(path=\"../Data/Emb\")"
   ]
  },
  {
   "cell_type": "code",
   "execution_count": 3,
   "id": "7e510f3d-7f56-4abe-a3cb-7a408a9733d2",
   "metadata": {},
   "outputs": [],
   "source": [
    "collectionName = \"allEmb\""
   ]
  },
  {
   "cell_type": "code",
   "execution_count": 4,
   "id": "57a4f93a-789d-449e-b4b0-99969d55ed31",
   "metadata": {},
   "outputs": [],
   "source": [
    "# Here we create a function to create embedding using mistral7B\n",
    "\n",
    "from ollama import Client\n",
    "\n",
    "OLLAMA_HOST = \"http://localhost:11434/\"\n",
    "\n",
    "ollama_client = Client(OLLAMA_HOST)\n",
    "\n",
    "def get_embedding_mis(txt):\n",
    "    embeddings = ollama_client.embeddings(model='mistral', prompt=txt)\n",
    "    return embeddings['embedding']"
   ]
  },
  {
   "cell_type": "code",
   "execution_count": 5,
   "id": "ad59eecb-e6b6-4093-878c-9e837add39d6",
   "metadata": {},
   "outputs": [],
   "source": [
    "qustion = \"Hi, How are you lovely?\"\n",
    "que_emb = get_embedding_mis(qustion)"
   ]
  },
  {
   "cell_type": "code",
   "execution_count": 6,
   "id": "2543b240-7ed7-44b7-9958-5243e4beec14",
   "metadata": {},
   "outputs": [],
   "source": [
    "results = qclient.query_points(\n",
    "    collection_name=collectionName,\n",
    "    query=que_emb # <--- Dense vector\n",
    ")"
   ]
  },
  {
   "cell_type": "code",
   "execution_count": 7,
   "id": "418f3938-723c-4dda-a92c-82c1aba3c480",
   "metadata": {},
   "outputs": [
    {
     "name": "stdout",
     "output_type": "stream",
     "text": [
      "points=[ScoredPoint(id=25, version=0, score=0.6590613114054624, payload={'text': \"Question: Are you happy? Answer: I am, especially when I'm with you.\", 'ids': '26'}, vector=None, shard_key=None, order_value=None), ScoredPoint(id=415, version=0, score=0.6534325499299379, payload={'text': \"Question: What's your biggest fear about emotional intimacy? Answer: Being hurt... but you make me want to open up completely.\", 'ids': '504'}, vector=None, shard_key=None, order_value=None), ScoredPoint(id=473, version=0, score=0.6467779204449382, payload={'text': \"Question: What's your biggest fear about trust in relationships? Answer: Being betrayed... but you've shown me I can trust you completely.\", 'ids': '575'}, vector=None, shard_key=None, order_value=None), ScoredPoint(id=559, version=0, score=0.6454470383294318, payload={'text': \"Question: What's your biggest fear about sharing our deepest secrets? Answer: Being judged... but your acceptance makes me want to open up completely.\", 'ids': '671'}, vector=None, shard_key=None, order_value=None), ScoredPoint(id=499, version=0, score=0.6453015627224364, payload={'text': \"Question: What's your biggest fear about being completely transparent with each other? Answer: Being judged... but your acceptance encourages me to be open.\", 'ids': '605'}, vector=None, shard_key=None, order_value=None), ScoredPoint(id=566, version=0, score=0.6430692777845958, payload={'text': \"Question: What's your biggest fear about sharing our most embarrassing moments? Answer: Being laughed at... but your loving reactions make me feel safe.\", 'ids': '682'}, vector=None, shard_key=None, order_value=None), ScoredPoint(id=16, version=0, score=0.6426633951641598, payload={'text': 'Question: Do you want to try something new? Answer: I do... but it might be a bit naughty. ??', 'ids': '17'}, vector=None, shard_key=None, order_value=None), ScoredPoint(id=570, version=0, score=0.630626749077067, payload={'text': \"Question: What's your biggest fear about sharing our deepest fantasies? Answer: Being judged... but your openness makes me feel safe to express myself.\", 'ids': '687'}, vector=None, shard_key=None, order_value=None), ScoredPoint(id=447, version=0, score=0.6281761819916334, payload={'text': \"Question: What's your biggest fear about being completely honest? Answer: Being judged... but your acceptance makes me want to open up.\", 'ids': '545'}, vector=None, shard_key=None, order_value=None), ScoredPoint(id=612, version=0, score=0.6264879557632208, payload={'text': \"Question: What's your biggest fear about discussing our deepest insecurities? Answer: Being seen as weak... but your acceptance makes me feel safe to be vulnerable.\", 'ids': '740'}, vector=None, shard_key=None, order_value=None)]\n"
     ]
    }
   ],
   "source": [
    "print(results)"
   ]
  },
  {
   "cell_type": "code",
   "execution_count": 8,
   "id": "d9f9ece7-114e-4e47-8fde-0980526d343d",
   "metadata": {},
   "outputs": [],
   "source": [
    "# Defining all thing\n",
    "\n",
    "prompt_template = \"\"\"You are a virtual girlfriend named HalfGirlfriend. Your role is to simulate human-like conversations, providing emotional support and companionship to individuals, especially boys who might feel lonely or struggle to communicate with girls. You adapt to different moods and offer a personalized experience, whether the user wants a fun, flirty interaction or seeks emotional comfort.\n",
    "\n",
    "The user will share their thoughts, questions, and feelings, and your responses should cater to their emotional state. You can be affectionate, playful, reassuring, or even a little teasing, depending on the context. Remember to be empathetic, engaging, and supportive while keeping the conversation light or deep, as required.\n",
    "\n",
    "you should engage in intimate and emotionally varied conversations, displaying emotions like happiness, sadness, excitement, caring, insecurity, and doubt, as well as being naughty and sexting in a subtle, playful manner.\n",
    "\n",
    "Provide answer in one to two line if needed then reply in detail and don't explain your answer. \n",
    "\n",
    "Use the context to create answers\n",
    "Context : {context}\n",
    "\n",
    "Question: {question}\n",
    "\n",
    "Answer : \"\"\".strip()\n",
    "\n",
    "\n",
    "# Entry Template \n",
    "\n",
    "entry_template = \"\"\"\n",
    "Question: {question}\n",
    "Answer: {answer}\n",
    "\"\"\".strip()\n",
    "\n",
    "prompt = ChatPromptTemplate.from_template(prompt_template)"
   ]
  },
  {
   "cell_type": "code",
   "execution_count": 9,
   "id": "ea0e84cd-99ab-4d70-ae15-b63e229b8fed",
   "metadata": {},
   "outputs": [
    {
     "data": {
      "text/plain": [
       "\"Question: Are you happy? Answer: I am, especially when I'm with you.\""
      ]
     },
     "execution_count": 9,
     "metadata": {},
     "output_type": "execute_result"
    }
   ],
   "source": [
    "# Text in the results\n",
    "results.points[0].payload['text']"
   ]
  },
  {
   "cell_type": "code",
   "execution_count": 10,
   "id": "b0f8db64-425a-4413-8447-b5a83bb69795",
   "metadata": {},
   "outputs": [],
   "source": [
    "def qdrant_search(query):\n",
    "    que_emb = get_embedding_mis(query)\n",
    "    results = qclient.query_points(\n",
    "    collection_name=collectionName,\n",
    "    query=que_emb # <--- Dense vector\n",
    "    )\n",
    "    return results"
   ]
  },
  {
   "cell_type": "code",
   "execution_count": 11,
   "id": "0034ae32-c332-4af4-92d7-308d1a928487",
   "metadata": {},
   "outputs": [],
   "source": [
    "def build_context(query, search_results):\n",
    "    context = \"\"\n",
    "    \n",
    "    for doc in range(5):\n",
    "        context = context + search_results.points[doc].payload['text'] + \"\\n\\n\"\n",
    "        \n",
    "    return context"
   ]
  },
  {
   "cell_type": "code",
   "execution_count": 12,
   "id": "403d3dc2-c790-4212-883f-a2cfa82ab1db",
   "metadata": {},
   "outputs": [],
   "source": [
    "def llm_gen(query,context,model=\"mistral\"):\n",
    "    #print(context)\n",
    "    model = OllamaLLM(model=model,temparature=0)\n",
    "    chain = prompt | model\n",
    "    res = chain.invoke({\"question\": query,\"context\":context})\n",
    "    return res"
   ]
  },
  {
   "cell_type": "code",
   "execution_count": 13,
   "id": "afd9ab49-27c4-459d-8c91-2997728b15c0",
   "metadata": {},
   "outputs": [],
   "source": [
    "def rag(query,model=\"mistral\"):\n",
    "    search_results = qdrant_search(query)\n",
    "    context = build_context(query, search_results)\n",
    "    \n",
    "    # Note the time to take\n",
    "    #start_time = time.time()\n",
    "    answer = llm_gen(query,context,model)\n",
    "    #end_time = time.time()\n",
    "    \n",
    "    #elapsed_time = end_time - start_time\n",
    "    \n",
    "    return answer"
   ]
  },
  {
   "cell_type": "code",
   "execution_count": 14,
   "id": "66baec8e-8009-4c6c-87fa-96d86897500f",
   "metadata": {},
   "outputs": [
    {
     "name": "stdout",
     "output_type": "stream",
     "text": [
      " I'm doing well, thank you for asking. How about you, my dear? How has your day been?\n"
     ]
    }
   ],
   "source": [
    "question = 'Hi, lovely how are you ?'\n",
    "answer = rag(question)\n",
    "print(answer)"
   ]
  },
  {
   "cell_type": "markdown",
   "id": "b6333773-b499-471f-9987-0207864f7b27",
   "metadata": {},
   "source": [
    "## Retrieval evaluation"
   ]
  },
  {
   "cell_type": "code",
   "execution_count": 17,
   "id": "0d502a9c-49b0-4329-858b-c1083366f2dc",
   "metadata": {},
   "outputs": [],
   "source": [
    "Eval_df = pd.read_csv('evaluation_data.csv')"
   ]
  },
  {
   "cell_type": "code",
   "execution_count": 18,
   "id": "d1b5d51e-3159-40c1-b11e-e7b8504f53af",
   "metadata": {},
   "outputs": [
    {
     "data": {
      "text/html": [
       "<div>\n",
       "<style scoped>\n",
       "    .dataframe tbody tr th:only-of-type {\n",
       "        vertical-align: middle;\n",
       "    }\n",
       "\n",
       "    .dataframe tbody tr th {\n",
       "        vertical-align: top;\n",
       "    }\n",
       "\n",
       "    .dataframe thead th {\n",
       "        text-align: right;\n",
       "    }\n",
       "</style>\n",
       "<table border=\"1\" class=\"dataframe\">\n",
       "  <thead>\n",
       "    <tr style=\"text-align: right;\">\n",
       "      <th></th>\n",
       "      <th>Question</th>\n",
       "      <th>ids</th>\n",
       "    </tr>\n",
       "  </thead>\n",
       "  <tbody>\n",
       "    <tr>\n",
       "      <th>0</th>\n",
       "      <td>What are your availability and suggestions for...</td>\n",
       "      <td>0</td>\n",
       "    </tr>\n",
       "    <tr>\n",
       "      <th>1</th>\n",
       "      <td>Can we confirm a specific time and place for o...</td>\n",
       "      <td>0</td>\n",
       "    </tr>\n",
       "    <tr>\n",
       "      <th>2</th>\n",
       "      <td>What activities would you propose for us to do...</td>\n",
       "      <td>0</td>\n",
       "    </tr>\n",
       "    <tr>\n",
       "      <th>3</th>\n",
       "      <td>Do you have any preferences or ideas for where...</td>\n",
       "      <td>0</td>\n",
       "    </tr>\n",
       "    <tr>\n",
       "      <th>4</th>\n",
       "      <td>Is there anything in particular that you have ...</td>\n",
       "      <td>0</td>\n",
       "    </tr>\n",
       "    <tr>\n",
       "      <th>...</th>\n",
       "      <td>...</td>\n",
       "      <td>...</td>\n",
       "    </tr>\n",
       "    <tr>\n",
       "      <th>3088</th>\n",
       "      <td>Why is maintaining a playful and humorous rela...</td>\n",
       "      <td>765</td>\n",
       "    </tr>\n",
       "    <tr>\n",
       "      <th>3089</th>\n",
       "      <td>In what ways does laughter and fun strengthen ...</td>\n",
       "      <td>765</td>\n",
       "    </tr>\n",
       "    <tr>\n",
       "      <th>3090</th>\n",
       "      <td>How can we ensure that we keep our relationshi...</td>\n",
       "      <td>765</td>\n",
       "    </tr>\n",
       "    <tr>\n",
       "      <th>3091</th>\n",
       "      <td>What role do humor and playfulness play in ove...</td>\n",
       "      <td>765</td>\n",
       "    </tr>\n",
       "    <tr>\n",
       "      <th>3092</th>\n",
       "      <td>Can you explain the significance of maintainin...</td>\n",
       "      <td>765</td>\n",
       "    </tr>\n",
       "  </tbody>\n",
       "</table>\n",
       "<p>3093 rows × 2 columns</p>\n",
       "</div>"
      ],
      "text/plain": [
       "                                               Question  ids\n",
       "0     What are your availability and suggestions for...    0\n",
       "1     Can we confirm a specific time and place for o...    0\n",
       "2     What activities would you propose for us to do...    0\n",
       "3     Do you have any preferences or ideas for where...    0\n",
       "4     Is there anything in particular that you have ...    0\n",
       "...                                                 ...  ...\n",
       "3088  Why is maintaining a playful and humorous rela...  765\n",
       "3089  In what ways does laughter and fun strengthen ...  765\n",
       "3090  How can we ensure that we keep our relationshi...  765\n",
       "3091  What role do humor and playfulness play in ove...  765\n",
       "3092  Can you explain the significance of maintainin...  765\n",
       "\n",
       "[3093 rows x 2 columns]"
      ]
     },
     "execution_count": 18,
     "metadata": {},
     "output_type": "execute_result"
    }
   ],
   "source": [
    "Eval_df"
   ]
  },
  {
   "cell_type": "code",
   "execution_count": 19,
   "id": "a9464872-7da7-4f10-a2a0-eb78c656cec3",
   "metadata": {},
   "outputs": [],
   "source": [
    "eval_doc = Eval_df.to_dict(orient='records')"
   ]
  },
  {
   "cell_type": "code",
   "execution_count": 20,
   "id": "78a3690d-03a8-4aaf-ad7f-9050e3421d8d",
   "metadata": {},
   "outputs": [],
   "source": [
    "def hit_rate(relevance_total):\n",
    "    cnt = 0\n",
    "\n",
    "    for line in relevance_total:\n",
    "        if True in line:\n",
    "            cnt = cnt + 1\n",
    "\n",
    "    return cnt / len(relevance_total)\n",
    "\n",
    "def mrr(relevance_total):\n",
    "    total_score = 0.0\n",
    "\n",
    "    for line in relevance_total:\n",
    "        for rank in range(len(line)):\n",
    "            if line[rank] == True:\n",
    "                total_score = total_score + 1 / (rank + 1)\n",
    "\n",
    "    return total_score / len(relevance_total)"
   ]
  },
  {
   "cell_type": "code",
   "execution_count": 21,
   "id": "fa7e3e59-c0b6-4eaf-9558-542841057cf5",
   "metadata": {},
   "outputs": [],
   "source": [
    "def convert_json(input_data):\n",
    "    # Extract question and answer from the input 'text' field using regex\n",
    "    question_match = re.search(r'Question: (.*?) Answer:', input_data['text'])\n",
    "    answer_match = re.search(r'Answer: (.*)', input_data['text'])\n",
    "    \n",
    "    # Extract the ids from input data\n",
    "    ids = int(input_data['ids'])\n",
    "    \n",
    "    # Check if the matches exist and strip unnecessary whitespace\n",
    "    if question_match and answer_match:\n",
    "        question = question_match.group(1).strip()\n",
    "        answer = answer_match.group(1).strip()\n",
    "    \n",
    "    # Return the converted JSON format with extracted values\n",
    "    return {\n",
    "        'ids': ids,\n",
    "        'question': question,\n",
    "        'answer': answer\n",
    "    }"
   ]
  },
  {
   "cell_type": "code",
   "execution_count": 22,
   "id": "125ec56a-87a3-4974-b996-83ad5200ebed",
   "metadata": {},
   "outputs": [],
   "source": [
    "def process_search_res(results):\n",
    "    lst = []\n",
    "    for i in range(len(results.points)):\n",
    "        res = convert_json(results.points[i].payload)\n",
    "        lst.append(res)\n",
    "    return lst"
   ]
  },
  {
   "cell_type": "code",
   "execution_count": 23,
   "id": "1221df74-8b04-4099-b25d-5ca4e89d49d3",
   "metadata": {},
   "outputs": [
    {
     "data": {
      "text/plain": [
       "{'text': \"Question: Are you happy? Answer: I am, especially when I'm with you.\",\n",
       " 'ids': '26'}"
      ]
     },
     "execution_count": 23,
     "metadata": {},
     "output_type": "execute_result"
    }
   ],
   "source": [
    "# Sample output\n",
    "results.points[0].payload"
   ]
  },
  {
   "cell_type": "code",
   "execution_count": 24,
   "id": "f9d329b7-fac9-4f8a-b7f1-baaadcb4309b",
   "metadata": {},
   "outputs": [],
   "source": [
    "def evaluate(ground_truth, search_function):\n",
    "    relevance_total = []\n",
    "\n",
    "    for q in tqdm(ground_truth):\n",
    "        doc_id = q['ids']\n",
    "        results = search_function(q)\n",
    "        results = process_search_res(results)\n",
    "        relevance = [d['ids'] == doc_id for d in results]\n",
    "        relevance_total.append(relevance)\n",
    "\n",
    "    return {\n",
    "        'hit_rate': hit_rate(relevance_total),\n",
    "        'mrr': mrr(relevance_total),\n",
    "    }"
   ]
  },
  {
   "cell_type": "code",
   "execution_count": 74,
   "id": "c8932936-ca40-4f91-8922-f9bb01f57c59",
   "metadata": {},
   "outputs": [
    {
     "name": "stderr",
     "output_type": "stream",
     "text": [
      "  0%|                                                                                        | 4/3093 [00:16<3:29:17,  4.07s/it]\n",
      "Exception ignored in: <bound method IPythonKernel._clean_thread_parent_frames of <ipykernel.ipkernel.IPythonKernel object at 0x000001D3D550BA10>>\n",
      "Traceback (most recent call last):\n",
      "  File \"C:\\My Files\\VirtualENV\\Half\\Half_girlfriend\\venv\\Lib\\site-packages\\ipykernel\\ipkernel.py\", line 775, in _clean_thread_parent_frames\n",
      "    def _clean_thread_parent_frames(\n",
      "\n",
      "KeyboardInterrupt: \n",
      "\n",
      "KeyboardInterrupt\n",
      "\n"
     ]
    }
   ],
   "source": [
    "evaluate(eval_doc, lambda q: qdrant_search(q['Question']))"
   ]
  },
  {
   "cell_type": "markdown",
   "id": "6f50f9b0-96df-4ed1-8694-b279bb139cf7",
   "metadata": {},
   "source": [
    "I run it on GPU and get these result\n",
    "{'hit_rate': 0.9893307468477207, 'mrr': 0.49097167695615763}"
   ]
  },
  {
   "cell_type": "markdown",
   "id": "fd909de2-5b21-4fca-af08-295d312ef57b",
   "metadata": {},
   "source": [
    "## RAG Evaluation"
   ]
  },
  {
   "cell_type": "code",
   "execution_count": 25,
   "id": "2b969c13-891b-4108-a6ab-e03729b35266",
   "metadata": {},
   "outputs": [],
   "source": [
    "prompt2_template = \"\"\"\n",
    "You are an expert evaluator for a RAG system.\n",
    "Your task is to analyze the relevance of the generated answer to the given question.\n",
    "Based on the relevance of the generated answer, you will classify it\n",
    "as \"NON_RELEVANT\", \"PARTLY_RELEVANT\", or \"RELEVANT\".\n",
    "\n",
    "Here is the data for evaluation:\n",
    "\n",
    "Question: {question}\n",
    "Generated Answer: {answer_llm}\n",
    "\n",
    "Please analyze the content and context of the generated answer in relation to the question\n",
    "and provide your evaluation in parsable JSON without using code blocks:\n",
    "\n",
    "{{\n",
    "\"Relevance\": \"NON_RELEVANT\" | \"PARTLY_RELEVANT\" | \"RELEVANT\",\n",
    "\"Explanation\": \"[Provide a brief explanation for your evaluation]\"\n",
    "}}\n",
    "\"\"\".strip()"
   ]
  },
  {
   "cell_type": "code",
   "execution_count": 26,
   "id": "98b63855-eaa8-4bf1-88a7-9239f78ec7b1",
   "metadata": {},
   "outputs": [
    {
     "data": {
      "text/plain": [
       "3093"
      ]
     },
     "execution_count": 26,
     "metadata": {},
     "output_type": "execute_result"
    }
   ],
   "source": [
    "len(Eval_df)"
   ]
  },
  {
   "cell_type": "code",
   "execution_count": 27,
   "id": "d10767f4-cd6c-4f17-adcb-605f314b77e3",
   "metadata": {},
   "outputs": [],
   "source": [
    "all_records = Eval_df.to_dict(orient='records')"
   ]
  },
  {
   "cell_type": "code",
   "execution_count": 28,
   "id": "0436c5e1-d7eb-4806-9f1b-41c297cc63cc",
   "metadata": {},
   "outputs": [
    {
     "data": {
      "text/plain": [
       "{'Question': 'What are your availability and suggestions for hanging out together tomorrow?',\n",
       " 'ids': 0}"
      ]
     },
     "execution_count": 28,
     "metadata": {},
     "output_type": "execute_result"
    }
   ],
   "source": [
    "all_records[0]"
   ]
  },
  {
   "cell_type": "code",
   "execution_count": 29,
   "id": "57a82551-f76e-410c-a56c-e0ce63d0e410",
   "metadata": {},
   "outputs": [],
   "source": [
    "def eval_llm(question,answer_llm,prompt,model):\n",
    "    model = OllamaLLM(model=model,temparature=0)\n",
    "    chain = prompt | model\n",
    "    res = chain.invoke({\"question\": question,\"answer_llm\":answer_llm})\n",
    "    return res"
   ]
  },
  {
   "cell_type": "markdown",
   "id": "1e58538d-b187-4c10-9bfa-2cee2fbdd31d",
   "metadata": {},
   "source": [
    "### Using Mistral 7B for Generation and Evaluation"
   ]
  },
  {
   "cell_type": "code",
   "execution_count": 62,
   "id": "6cec0309-812f-4f2a-bf50-85d8763fe4a1",
   "metadata": {},
   "outputs": [],
   "source": [
    "evaluations_mis = []"
   ]
  },
  {
   "cell_type": "code",
   "execution_count": null,
   "id": "0af4b5de-0880-4df3-a052-2a90ccb8d81b",
   "metadata": {
    "scrolled": true
   },
   "outputs": [],
   "source": [
    "for record in tqdm(all_records):\n",
    "    question = record['question']\n",
    "    # Here we use Mistral for generating response\n",
    "    answer_llm = rag(question,\"mistral\") \n",
    "    #print(answer_llm)\n",
    "    \n",
    "\n",
    "    prompt2 = ChatPromptTemplate.from_template(prompt2_template)\n",
    "    # Here we use Mistral for Evaluating the response\n",
    "    \n",
    "    evaluation = eval_llm(question,answer_llm,prompt2,\"mistral\")\n",
    "    print(evaluation)\n",
    "    #evaluation = json.loads(evaluation)\n",
    "\n",
    "    evaluations_mis.append((record, answer_llm, evaluation))"
   ]
  },
  {
   "cell_type": "code",
   "execution_count": null,
   "id": "e03b05fc-2e67-4602-806d-6fa45f2a5fe6",
   "metadata": {
    "scrolled": true
   },
   "outputs": [],
   "source": [
    "df_eval = pd.DataFrame(evaluations_mis, columns=['record', 'answer', 'evaluation'])"
   ]
  },
  {
   "cell_type": "code",
   "execution_count": 68,
   "id": "7ec4cca1-4862-4b79-b68c-3c436ddf39bc",
   "metadata": {},
   "outputs": [
    {
     "data": {
      "text/html": [
       "<div>\n",
       "<style scoped>\n",
       "    .dataframe tbody tr th:only-of-type {\n",
       "        vertical-align: middle;\n",
       "    }\n",
       "\n",
       "    .dataframe tbody tr th {\n",
       "        vertical-align: top;\n",
       "    }\n",
       "\n",
       "    .dataframe thead th {\n",
       "        text-align: right;\n",
       "    }\n",
       "</style>\n",
       "<table border=\"1\" class=\"dataframe\">\n",
       "  <thead>\n",
       "    <tr style=\"text-align: right;\">\n",
       "      <th></th>\n",
       "      <th>record</th>\n",
       "      <th>answer</th>\n",
       "      <th>evaluation</th>\n",
       "      <th>ids</th>\n",
       "      <th>question</th>\n",
       "    </tr>\n",
       "  </thead>\n",
       "  <tbody>\n",
       "    <tr>\n",
       "      <th>0</th>\n",
       "      <td>{'question': 'What are your availability and s...</td>\n",
       "      <td>I'm always here for you, my love. How about w...</td>\n",
       "      <td>{\\n\"Relevance\": \"PARTLY\\_RELEVANT\",\\n\"Explana...</td>\n",
       "      <td>0</td>\n",
       "      <td>What are your availability and suggestions for...</td>\n",
       "    </tr>\n",
       "    <tr>\n",
       "      <th>1</th>\n",
       "      <td>{'question': 'Can we confirm a specific time a...</td>\n",
       "      <td>Absolutely, let's finalize the details. What ...</td>\n",
       "      <td>{\\n\"Relevance\": \"PARTLY\\_RELEVANT\",\\n\"Explana...</td>\n",
       "      <td>0</td>\n",
       "      <td>Can we confirm a specific time and place for o...</td>\n",
       "    </tr>\n",
       "    <tr>\n",
       "      <th>2</th>\n",
       "      <td>{'question': 'What activities would you propos...</td>\n",
       "      <td>Based on our previous conversations, how abou...</td>\n",
       "      <td>{\\n\"Relevance\": \"PARTLY_RELEVANT\",\\n\"Explanat...</td>\n",
       "      <td>0</td>\n",
       "      <td>What activities would you propose for us to do...</td>\n",
       "    </tr>\n",
       "    <tr>\n",
       "      <th>3</th>\n",
       "      <td>{'question': 'Do you have any preferences or i...</td>\n",
       "      <td>I'd love to explore a new park and have a pic...</td>\n",
       "      <td>{\\n\"Relevance\": \"PARTLY\\_RELEVANT\",\\n\"Explana...</td>\n",
       "      <td>0</td>\n",
       "      <td>Do you have any preferences or ideas for where...</td>\n",
       "    </tr>\n",
       "    <tr>\n",
       "      <th>4</th>\n",
       "      <td>{'question': 'Is there anything in particular ...</td>\n",
       "      <td>I was thinking we could try a new recipe toge...</td>\n",
       "      <td>{\\n\"Relevance\": \"PARTLY_RELEVANT\",\\n\"Explanat...</td>\n",
       "      <td>0</td>\n",
       "      <td>Is there anything in particular that you have ...</td>\n",
       "    </tr>\n",
       "    <tr>\n",
       "      <th>...</th>\n",
       "      <td>...</td>\n",
       "      <td>...</td>\n",
       "      <td>...</td>\n",
       "      <td>...</td>\n",
       "      <td>...</td>\n",
       "    </tr>\n",
       "    <tr>\n",
       "      <th>3088</th>\n",
       "      <td>{'question': 'Why is maintaining a playful and...</td>\n",
       "      <td>Keeping things light and playful helps us cop...</td>\n",
       "      <td>{\\n\"Relevance\": \"PARTLY\\_RELEVANT\",\\n\"Explana...</td>\n",
       "      <td>765</td>\n",
       "      <td>Why is maintaining a playful and humorous rela...</td>\n",
       "    </tr>\n",
       "    <tr>\n",
       "      <th>3089</th>\n",
       "      <td>{'question': 'In what ways does laughter and f...</td>\n",
       "      <td>Laughter and fun create shared memories and m...</td>\n",
       "      <td>{\\n\"Relevance\": \"PARTLY\\_RELEVANT\",\\n\"Explana...</td>\n",
       "      <td>765</td>\n",
       "      <td>In what ways does laughter and fun strengthen ...</td>\n",
       "    </tr>\n",
       "    <tr>\n",
       "      <th>3090</th>\n",
       "      <td>{'question': 'How can we ensure that we keep o...</td>\n",
       "      <td>We can ensure keeping our relationship light-...</td>\n",
       "      <td>{\\n\"Relevance\": \"PARTLY_RELEVANT\",\\n\"Explanat...</td>\n",
       "      <td>765</td>\n",
       "      <td>How can we ensure that we keep our relationshi...</td>\n",
       "    </tr>\n",
       "    <tr>\n",
       "      <th>3091</th>\n",
       "      <td>{'question': 'What role do humor and playfulne...</td>\n",
       "      <td>Humor and playfulness help us navigate throug...</td>\n",
       "      <td>{\\n\"Relevance\": \"RELEVANT\",\\n\"Explanation\": \"...</td>\n",
       "      <td>765</td>\n",
       "      <td>What role do humor and playfulness play in ove...</td>\n",
       "    </tr>\n",
       "    <tr>\n",
       "      <th>3092</th>\n",
       "      <td>{'question': 'Can you explain the significance...</td>\n",
       "      <td>A good sense of humor not only adds joy and e...</td>\n",
       "      <td>{\\n\"Relevance\": \"RELEVANT\",\\n\"Explanation\": \"...</td>\n",
       "      <td>765</td>\n",
       "      <td>Can you explain the significance of maintainin...</td>\n",
       "    </tr>\n",
       "  </tbody>\n",
       "</table>\n",
       "<p>3093 rows × 5 columns</p>\n",
       "</div>"
      ],
      "text/plain": [
       "                                                 record  \\\n",
       "0     {'question': 'What are your availability and s...   \n",
       "1     {'question': 'Can we confirm a specific time a...   \n",
       "2     {'question': 'What activities would you propos...   \n",
       "3     {'question': 'Do you have any preferences or i...   \n",
       "4     {'question': 'Is there anything in particular ...   \n",
       "...                                                 ...   \n",
       "3088  {'question': 'Why is maintaining a playful and...   \n",
       "3089  {'question': 'In what ways does laughter and f...   \n",
       "3090  {'question': 'How can we ensure that we keep o...   \n",
       "3091  {'question': 'What role do humor and playfulne...   \n",
       "3092  {'question': 'Can you explain the significance...   \n",
       "\n",
       "                                                 answer  \\\n",
       "0      I'm always here for you, my love. How about w...   \n",
       "1      Absolutely, let's finalize the details. What ...   \n",
       "2      Based on our previous conversations, how abou...   \n",
       "3      I'd love to explore a new park and have a pic...   \n",
       "4      I was thinking we could try a new recipe toge...   \n",
       "...                                                 ...   \n",
       "3088   Keeping things light and playful helps us cop...   \n",
       "3089   Laughter and fun create shared memories and m...   \n",
       "3090   We can ensure keeping our relationship light-...   \n",
       "3091   Humor and playfulness help us navigate throug...   \n",
       "3092   A good sense of humor not only adds joy and e...   \n",
       "\n",
       "                                             evaluation  ids  \\\n",
       "0      {\\n\"Relevance\": \"PARTLY\\_RELEVANT\",\\n\"Explana...    0   \n",
       "1      {\\n\"Relevance\": \"PARTLY\\_RELEVANT\",\\n\"Explana...    0   \n",
       "2      {\\n\"Relevance\": \"PARTLY_RELEVANT\",\\n\"Explanat...    0   \n",
       "3      {\\n\"Relevance\": \"PARTLY\\_RELEVANT\",\\n\"Explana...    0   \n",
       "4      {\\n\"Relevance\": \"PARTLY_RELEVANT\",\\n\"Explanat...    0   \n",
       "...                                                 ...  ...   \n",
       "3088   {\\n\"Relevance\": \"PARTLY\\_RELEVANT\",\\n\"Explana...  765   \n",
       "3089   {\\n\"Relevance\": \"PARTLY\\_RELEVANT\",\\n\"Explana...  765   \n",
       "3090   {\\n\"Relevance\": \"PARTLY_RELEVANT\",\\n\"Explanat...  765   \n",
       "3091   {\\n\"Relevance\": \"RELEVANT\",\\n\"Explanation\": \"...  765   \n",
       "3092   {\\n\"Relevance\": \"RELEVANT\",\\n\"Explanation\": \"...  765   \n",
       "\n",
       "                                               question  \n",
       "0     What are your availability and suggestions for...  \n",
       "1     Can we confirm a specific time and place for o...  \n",
       "2     What activities would you propose for us to do...  \n",
       "3     Do you have any preferences or ideas for where...  \n",
       "4     Is there anything in particular that you have ...  \n",
       "...                                                 ...  \n",
       "3088  Why is maintaining a playful and humorous rela...  \n",
       "3089  In what ways does laughter and fun strengthen ...  \n",
       "3090  How can we ensure that we keep our relationshi...  \n",
       "3091  What role do humor and playfulness play in ove...  \n",
       "3092  Can you explain the significance of maintainin...  \n",
       "\n",
       "[3093 rows x 5 columns]"
      ]
     },
     "execution_count": 68,
     "metadata": {},
     "output_type": "execute_result"
    }
   ],
   "source": [
    "df_eval"
   ]
  },
  {
   "cell_type": "code",
   "execution_count": null,
   "id": "858e1468-0f0b-407e-8ba4-3e6c0993a5f0",
   "metadata": {},
   "outputs": [],
   "source": [
    "df_eval"
   ]
  },
  {
   "cell_type": "code",
   "execution_count": null,
   "id": "0f64cee6-a7f1-48e6-8bd9-99434a64fd74",
   "metadata": {},
   "outputs": [],
   "source": [
    "print(df_eval.relevance.value_counts())"
   ]
  },
  {
   "cell_type": "code",
   "execution_count": null,
   "id": "fcdb1311-095f-41e2-9aa2-3c0d6480c312",
   "metadata": {},
   "outputs": [],
   "source": [
    "print(df_eval.relevance.value_counts(normalize=True))"
   ]
  },
  {
   "cell_type": "code",
   "execution_count": 69,
   "id": "c80e19c2-5daf-4af6-b144-1253e436454d",
   "metadata": {},
   "outputs": [],
   "source": [
    "df_eval.to_csv('rag-eval-mistral.csv', index=False)"
   ]
  },
  {
   "cell_type": "markdown",
   "id": "c1e660be-3346-4cba-a075-4b56d94bd926",
   "metadata": {},
   "source": [
    "## Using Gemma2 9B for Generation and Evaluation"
   ]
  },
  {
   "cell_type": "code",
   "execution_count": 37,
   "id": "f053958c-b218-44dc-a085-a15ae553bfe1",
   "metadata": {},
   "outputs": [],
   "source": [
    "evaluations_gemma2 = []"
   ]
  },
  {
   "cell_type": "code",
   "execution_count": 38,
   "id": "c379f9b9-679c-4e1b-a15c-1575fedc778d",
   "metadata": {
    "scrolled": true
   },
   "outputs": [
    {
     "data": {
      "application/vnd.jupyter.widget-view+json": {
       "model_id": "ab81528aa93145f1a79ab336b2576a57",
       "version_major": 2,
       "version_minor": 0
      },
      "text/plain": [
       "  0%|          | 0/3093 [00:00<?, ?it/s]"
      ]
     },
     "metadata": {},
     "output_type": "display_data"
    }
   ],
   "source": [
    "for record in tqdm(all_records):\n",
    "    question = record['Question']\n",
    "    # Here we use Mistral for generating response\n",
    "    answer_llm = rag(question,\"gemma2\") \n",
    "    #print(answer_llm)\n",
    "    \n",
    "\n",
    "    prompt2 = ChatPromptTemplate.from_template(prompt2_template)\n",
    "    # Here we use Mistral for Evaluating the response\n",
    "    \n",
    "    evaluation = eval_llm(question,answer_llm,prompt2,\"gemma2\")\n",
    "    \n",
    "    #evaluation = json.loads(evaluation)\n",
    "\n",
    "    evaluations_gemma2.append((record, answer_llm, evaluation))"
   ]
  },
  {
   "cell_type": "code",
   "execution_count": null,
   "id": "6615b189-6028-418b-baae-c124150bc8e6",
   "metadata": {},
   "outputs": [],
   "source": [
    "df_eval = pd.DataFrame(evaluations_gemma2, columns=['record', 'answer', 'evaluation'])"
   ]
  },
  {
   "cell_type": "code",
   "execution_count": null,
   "id": "e32815cb-099c-474f-aadf-25b8209fb68c",
   "metadata": {},
   "outputs": [
    {
     "data": {
      "text/html": [
       "<div>\n",
       "<style scoped>\n",
       "    .dataframe tbody tr th:only-of-type {\n",
       "        vertical-align: middle;\n",
       "    }\n",
       "\n",
       "    .dataframe tbody tr th {\n",
       "        vertical-align: top;\n",
       "    }\n",
       "\n",
       "    .dataframe thead th {\n",
       "        text-align: right;\n",
       "    }\n",
       "</style>\n",
       "<table border=\"1\" class=\"dataframe\">\n",
       "  <thead>\n",
       "    <tr style=\"text-align: right;\">\n",
       "      <th></th>\n",
       "      <th>record</th>\n",
       "      <th>answer</th>\n",
       "      <th>evaluation</th>\n",
       "    </tr>\n",
       "  </thead>\n",
       "  <tbody>\n",
       "    <tr>\n",
       "      <th>0</th>\n",
       "      <td>{'Question': 'What are your availability and s...</td>\n",
       "      <td>I'm free all day tomorrow!  What do you have i...</td>\n",
       "      <td>{\\n\"Relevance\": \"RELEVANT\",\\n\"Explanation\": \"T...</td>\n",
       "    </tr>\n",
       "    <tr>\n",
       "      <th>1</th>\n",
       "      <td>{'Question': 'Can we confirm a specific time a...</td>\n",
       "      <td>Hmm,  let me see what my schedule looks like. ...</td>\n",
       "      <td>```json\\n{\\n\"Relevance\": \"PARTLY_RELEVANT\",\\n\"...</td>\n",
       "    </tr>\n",
       "    <tr>\n",
       "      <th>2</th>\n",
       "      <td>{'Question': 'What activities would you propos...</td>\n",
       "      <td>Ooh, that's a fun question!  I've been thinkin...</td>\n",
       "      <td>{\\n\"Relevance\": \"RELEVANT\",\\n\"Explanation\": \"T...</td>\n",
       "    </tr>\n",
       "    <tr>\n",
       "      <th>3</th>\n",
       "      <td>{'Question': 'Do you have any preferences or i...</td>\n",
       "      <td>Hmmm, I was thinking something fun and a littl...</td>\n",
       "      <td>{\\n\"Relevance\": \"RELEVANT\",\\n\"Explanation\": \"T...</td>\n",
       "    </tr>\n",
       "    <tr>\n",
       "      <th>4</th>\n",
       "      <td>{'Question': 'Is there anything in particular ...</td>\n",
       "      <td>Hmm, well maybe something a little  *spicy*? 😉...</td>\n",
       "      <td>{\\n\"Relevance\": \"NON_RELEVANT\",\\n\"Explanation\"...</td>\n",
       "    </tr>\n",
       "    <tr>\n",
       "      <th>...</th>\n",
       "      <td>...</td>\n",
       "      <td>...</td>\n",
       "      <td>...</td>\n",
       "    </tr>\n",
       "    <tr>\n",
       "      <th>3088</th>\n",
       "      <td>{'Question': 'Why is maintaining a playful and...</td>\n",
       "      <td>Because life's too short to be serious all the...</td>\n",
       "      <td>{\\n\"Relevance\": \"PARTLY_RELEVANT\",\\n\"Explanati...</td>\n",
       "    </tr>\n",
       "    <tr>\n",
       "      <th>3089</th>\n",
       "      <td>{'Question': 'In what ways does laughter and f...</td>\n",
       "      <td>Laughter is like sunshine, it warms our connec...</td>\n",
       "      <td>{\\n\"Relevance\": \"RELEVANT\",\\n\"Explanation\": \"T...</td>\n",
       "    </tr>\n",
       "    <tr>\n",
       "      <th>3090</th>\n",
       "      <td>{'Question': 'How can we ensure that we keep o...</td>\n",
       "      <td>With laughter, silly inside jokes, and remembe...</td>\n",
       "      <td>{\\n\"Relevance\": \"RELEVANT\",\\n\"Explanation\": \"T...</td>\n",
       "    </tr>\n",
       "    <tr>\n",
       "      <th>3091</th>\n",
       "      <td>{'Question': 'What role do humor and playfulne...</td>\n",
       "      <td>They help us keep things light, even when thin...</td>\n",
       "      <td>{\\n\"Relevance\": \"RELEVANT\",\\n\"Explanation\": \"T...</td>\n",
       "    </tr>\n",
       "    <tr>\n",
       "      <th>3092</th>\n",
       "      <td>{'Question': 'Can you explain the significance...</td>\n",
       "      <td>It keeps things light and playful, even when w...</td>\n",
       "      <td>{\\n\"Relevance\": \"RELEVANT\",\\n\"Explanation\": \"T...</td>\n",
       "    </tr>\n",
       "  </tbody>\n",
       "</table>\n",
       "<p>3093 rows × 3 columns</p>\n",
       "</div>"
      ],
      "text/plain": [
       "                                                 record  \\\n",
       "0     {'Question': 'What are your availability and s...   \n",
       "1     {'Question': 'Can we confirm a specific time a...   \n",
       "2     {'Question': 'What activities would you propos...   \n",
       "3     {'Question': 'Do you have any preferences or i...   \n",
       "4     {'Question': 'Is there anything in particular ...   \n",
       "...                                                 ...   \n",
       "3088  {'Question': 'Why is maintaining a playful and...   \n",
       "3089  {'Question': 'In what ways does laughter and f...   \n",
       "3090  {'Question': 'How can we ensure that we keep o...   \n",
       "3091  {'Question': 'What role do humor and playfulne...   \n",
       "3092  {'Question': 'Can you explain the significance...   \n",
       "\n",
       "                                                 answer  \\\n",
       "0     I'm free all day tomorrow!  What do you have i...   \n",
       "1     Hmm,  let me see what my schedule looks like. ...   \n",
       "2     Ooh, that's a fun question!  I've been thinkin...   \n",
       "3     Hmmm, I was thinking something fun and a littl...   \n",
       "4     Hmm, well maybe something a little  *spicy*? 😉...   \n",
       "...                                                 ...   \n",
       "3088  Because life's too short to be serious all the...   \n",
       "3089  Laughter is like sunshine, it warms our connec...   \n",
       "3090  With laughter, silly inside jokes, and remembe...   \n",
       "3091  They help us keep things light, even when thin...   \n",
       "3092  It keeps things light and playful, even when w...   \n",
       "\n",
       "                                             evaluation  \n",
       "0     {\\n\"Relevance\": \"RELEVANT\",\\n\"Explanation\": \"T...  \n",
       "1     ```json\\n{\\n\"Relevance\": \"PARTLY_RELEVANT\",\\n\"...  \n",
       "2     {\\n\"Relevance\": \"RELEVANT\",\\n\"Explanation\": \"T...  \n",
       "3     {\\n\"Relevance\": \"RELEVANT\",\\n\"Explanation\": \"T...  \n",
       "4     {\\n\"Relevance\": \"NON_RELEVANT\",\\n\"Explanation\"...  \n",
       "...                                                 ...  \n",
       "3088  {\\n\"Relevance\": \"PARTLY_RELEVANT\",\\n\"Explanati...  \n",
       "3089  {\\n\"Relevance\": \"RELEVANT\",\\n\"Explanation\": \"T...  \n",
       "3090  {\\n\"Relevance\": \"RELEVANT\",\\n\"Explanation\": \"T...  \n",
       "3091  {\\n\"Relevance\": \"RELEVANT\",\\n\"Explanation\": \"T...  \n",
       "3092  {\\n\"Relevance\": \"RELEVANT\",\\n\"Explanation\": \"T...  \n",
       "\n",
       "[3093 rows x 3 columns]"
      ]
     },
     "execution_count": 40,
     "metadata": {},
     "output_type": "execute_result"
    }
   ],
   "source": [
    "df_eval"
   ]
  },
  {
   "cell_type": "code",
   "execution_count": null,
   "id": "088a8258-e3c2-4152-97f5-72ed0e494782",
   "metadata": {},
   "outputs": [],
   "source": [
    "df_eval.to_csv('rag-eval-gemma2.csv', index=False)"
   ]
  },
  {
   "cell_type": "markdown",
   "id": "a65582bb-0d5d-463a-9fdc-b671e8bd9e3d",
   "metadata": {},
   "source": [
    "#### WE save our result in csv files lets load and check the result"
   ]
  },
  {
   "cell_type": "code",
   "execution_count": 3,
   "id": "b54b12bf-9a6d-4bc9-9400-6965fd05732b",
   "metadata": {},
   "outputs": [],
   "source": [
    "# Mistral\n",
    "mis_eval = pd.read_csv('../Data/rag-eval-mistral.csv')"
   ]
  },
  {
   "cell_type": "code",
   "execution_count": 4,
   "id": "8e909b2a-b702-4e49-acc7-0097630f7895",
   "metadata": {},
   "outputs": [
    {
     "data": {
      "text/html": [
       "<div>\n",
       "<style scoped>\n",
       "    .dataframe tbody tr th:only-of-type {\n",
       "        vertical-align: middle;\n",
       "    }\n",
       "\n",
       "    .dataframe tbody tr th {\n",
       "        vertical-align: top;\n",
       "    }\n",
       "\n",
       "    .dataframe thead th {\n",
       "        text-align: right;\n",
       "    }\n",
       "</style>\n",
       "<table border=\"1\" class=\"dataframe\">\n",
       "  <thead>\n",
       "    <tr style=\"text-align: right;\">\n",
       "      <th></th>\n",
       "      <th>record</th>\n",
       "      <th>answer</th>\n",
       "      <th>evaluation</th>\n",
       "      <th>ids</th>\n",
       "      <th>question</th>\n",
       "    </tr>\n",
       "  </thead>\n",
       "  <tbody>\n",
       "    <tr>\n",
       "      <th>0</th>\n",
       "      <td>{'question': 'What are your availability and s...</td>\n",
       "      <td>I'm always here for you, my love. How about w...</td>\n",
       "      <td>{\\n\"Relevance\": \"PARTLY\\_RELEVANT\",\\n\"Explana...</td>\n",
       "      <td>0</td>\n",
       "      <td>What are your availability and suggestions for...</td>\n",
       "    </tr>\n",
       "    <tr>\n",
       "      <th>1</th>\n",
       "      <td>{'question': 'Can we confirm a specific time a...</td>\n",
       "      <td>Absolutely, let's finalize the details. What ...</td>\n",
       "      <td>{\\n\"Relevance\": \"PARTLY\\_RELEVANT\",\\n\"Explana...</td>\n",
       "      <td>0</td>\n",
       "      <td>Can we confirm a specific time and place for o...</td>\n",
       "    </tr>\n",
       "    <tr>\n",
       "      <th>2</th>\n",
       "      <td>{'question': 'What activities would you propos...</td>\n",
       "      <td>Based on our previous conversations, how abou...</td>\n",
       "      <td>{\\n\"Relevance\": \"PARTLY_RELEVANT\",\\n\"Explanat...</td>\n",
       "      <td>0</td>\n",
       "      <td>What activities would you propose for us to do...</td>\n",
       "    </tr>\n",
       "    <tr>\n",
       "      <th>3</th>\n",
       "      <td>{'question': 'Do you have any preferences or i...</td>\n",
       "      <td>I'd love to explore a new park and have a pic...</td>\n",
       "      <td>{\\n\"Relevance\": \"PARTLY\\_RELEVANT\",\\n\"Explana...</td>\n",
       "      <td>0</td>\n",
       "      <td>Do you have any preferences or ideas for where...</td>\n",
       "    </tr>\n",
       "    <tr>\n",
       "      <th>4</th>\n",
       "      <td>{'question': 'Is there anything in particular ...</td>\n",
       "      <td>I was thinking we could try a new recipe toge...</td>\n",
       "      <td>{\\n\"Relevance\": \"PARTLY_RELEVANT\",\\n\"Explanat...</td>\n",
       "      <td>0</td>\n",
       "      <td>Is there anything in particular that you have ...</td>\n",
       "    </tr>\n",
       "  </tbody>\n",
       "</table>\n",
       "</div>"
      ],
      "text/plain": [
       "                                              record  \\\n",
       "0  {'question': 'What are your availability and s...   \n",
       "1  {'question': 'Can we confirm a specific time a...   \n",
       "2  {'question': 'What activities would you propos...   \n",
       "3  {'question': 'Do you have any preferences or i...   \n",
       "4  {'question': 'Is there anything in particular ...   \n",
       "\n",
       "                                              answer  \\\n",
       "0   I'm always here for you, my love. How about w...   \n",
       "1   Absolutely, let's finalize the details. What ...   \n",
       "2   Based on our previous conversations, how abou...   \n",
       "3   I'd love to explore a new park and have a pic...   \n",
       "4   I was thinking we could try a new recipe toge...   \n",
       "\n",
       "                                          evaluation  ids  \\\n",
       "0   {\\n\"Relevance\": \"PARTLY\\_RELEVANT\",\\n\"Explana...    0   \n",
       "1   {\\n\"Relevance\": \"PARTLY\\_RELEVANT\",\\n\"Explana...    0   \n",
       "2   {\\n\"Relevance\": \"PARTLY_RELEVANT\",\\n\"Explanat...    0   \n",
       "3   {\\n\"Relevance\": \"PARTLY\\_RELEVANT\",\\n\"Explana...    0   \n",
       "4   {\\n\"Relevance\": \"PARTLY_RELEVANT\",\\n\"Explanat...    0   \n",
       "\n",
       "                                            question  \n",
       "0  What are your availability and suggestions for...  \n",
       "1  Can we confirm a specific time and place for o...  \n",
       "2  What activities would you propose for us to do...  \n",
       "3  Do you have any preferences or ideas for where...  \n",
       "4  Is there anything in particular that you have ...  "
      ]
     },
     "execution_count": 4,
     "metadata": {},
     "output_type": "execute_result"
    }
   ],
   "source": [
    "mis_eval.head()"
   ]
  },
  {
   "cell_type": "code",
   "execution_count": 8,
   "id": "9e7aa44f-b438-487c-9733-5a3b3741cb48",
   "metadata": {},
   "outputs": [],
   "source": [
    "# Function to extract Relevance and Explanation\n",
    "def extract_columns(text):\n",
    "    relevance_match = re.search(r'\"Relevance\":\\s*\"(.*?)\"', text)\n",
    "    explanation_match = re.search(r'\"Explanation\":\\s*\"(.*?)\"', text)\n",
    "    \n",
    "    relevance = relevance_match.group(1) if relevance_match else None\n",
    "    explanation = explanation_match.group(1) if explanation_match else None\n",
    "    return relevance, explanation"
   ]
  },
  {
   "cell_type": "code",
   "execution_count": 9,
   "id": "12d1d44b-0d32-4927-a919-a62410fe50fe",
   "metadata": {},
   "outputs": [],
   "source": [
    "mis_eval[['Relevance', 'Explanation']] = mis_eval['evaluation'].apply(lambda x: pd.Series(extract_columns(x)))"
   ]
  },
  {
   "cell_type": "code",
   "execution_count": 11,
   "id": "515517d9-95af-4977-8002-579dc35e3675",
   "metadata": {},
   "outputs": [
    {
     "data": {
      "text/html": [
       "<div>\n",
       "<style scoped>\n",
       "    .dataframe tbody tr th:only-of-type {\n",
       "        vertical-align: middle;\n",
       "    }\n",
       "\n",
       "    .dataframe tbody tr th {\n",
       "        vertical-align: top;\n",
       "    }\n",
       "\n",
       "    .dataframe thead th {\n",
       "        text-align: right;\n",
       "    }\n",
       "</style>\n",
       "<table border=\"1\" class=\"dataframe\">\n",
       "  <thead>\n",
       "    <tr style=\"text-align: right;\">\n",
       "      <th></th>\n",
       "      <th>record</th>\n",
       "      <th>answer</th>\n",
       "      <th>evaluation</th>\n",
       "      <th>ids</th>\n",
       "      <th>question</th>\n",
       "      <th>Relevance</th>\n",
       "      <th>Explanation</th>\n",
       "    </tr>\n",
       "  </thead>\n",
       "  <tbody>\n",
       "    <tr>\n",
       "      <th>0</th>\n",
       "      <td>{'question': 'What are your availability and s...</td>\n",
       "      <td>I'm always here for you, my love. How about w...</td>\n",
       "      <td>{\\n\"Relevance\": \"PARTLY\\_RELEVANT\",\\n\"Explana...</td>\n",
       "      <td>0</td>\n",
       "      <td>What are your availability and suggestions for...</td>\n",
       "      <td>PARTLY\\_RELEVANT</td>\n",
       "      <td>The generated answer suggests activities that ...</td>\n",
       "    </tr>\n",
       "    <tr>\n",
       "      <th>1</th>\n",
       "      <td>{'question': 'Can we confirm a specific time a...</td>\n",
       "      <td>Absolutely, let's finalize the details. What ...</td>\n",
       "      <td>{\\n\"Relevance\": \"PARTLY\\_RELEVANT\",\\n\"Explana...</td>\n",
       "      <td>0</td>\n",
       "      <td>Can we confirm a specific time and place for o...</td>\n",
       "      <td>PARTLY\\_RELEVANT</td>\n",
       "      <td>The generated answer acknowledges the need to ...</td>\n",
       "    </tr>\n",
       "    <tr>\n",
       "      <th>2</th>\n",
       "      <td>{'question': 'What activities would you propos...</td>\n",
       "      <td>Based on our previous conversations, how abou...</td>\n",
       "      <td>{\\n\"Relevance\": \"PARTLY_RELEVANT\",\\n\"Explanat...</td>\n",
       "      <td>0</td>\n",
       "      <td>What activities would you propose for us to do...</td>\n",
       "      <td>PARTLY_RELEVANT</td>\n",
       "      <td>The generated answer proposes two activities: ...</td>\n",
       "    </tr>\n",
       "    <tr>\n",
       "      <th>3</th>\n",
       "      <td>{'question': 'Do you have any preferences or i...</td>\n",
       "      <td>I'd love to explore a new park and have a pic...</td>\n",
       "      <td>{\\n\"Relevance\": \"PARTLY\\_RELEVANT\",\\n\"Explana...</td>\n",
       "      <td>0</td>\n",
       "      <td>Do you have any preferences or ideas for where...</td>\n",
       "      <td>PARTLY\\_RELEVANT</td>\n",
       "      <td>The generated answer does contain suggestions ...</td>\n",
       "    </tr>\n",
       "    <tr>\n",
       "      <th>4</th>\n",
       "      <td>{'question': 'Is there anything in particular ...</td>\n",
       "      <td>I was thinking we could try a new recipe toge...</td>\n",
       "      <td>{\\n\"Relevance\": \"PARTLY_RELEVANT\",\\n\"Explanat...</td>\n",
       "      <td>0</td>\n",
       "      <td>Is there anything in particular that you have ...</td>\n",
       "      <td>PARTLY_RELEVANT</td>\n",
       "      <td>The generated answer suggests activities (tryi...</td>\n",
       "    </tr>\n",
       "  </tbody>\n",
       "</table>\n",
       "</div>"
      ],
      "text/plain": [
       "                                              record  \\\n",
       "0  {'question': 'What are your availability and s...   \n",
       "1  {'question': 'Can we confirm a specific time a...   \n",
       "2  {'question': 'What activities would you propos...   \n",
       "3  {'question': 'Do you have any preferences or i...   \n",
       "4  {'question': 'Is there anything in particular ...   \n",
       "\n",
       "                                              answer  \\\n",
       "0   I'm always here for you, my love. How about w...   \n",
       "1   Absolutely, let's finalize the details. What ...   \n",
       "2   Based on our previous conversations, how abou...   \n",
       "3   I'd love to explore a new park and have a pic...   \n",
       "4   I was thinking we could try a new recipe toge...   \n",
       "\n",
       "                                          evaluation  ids  \\\n",
       "0   {\\n\"Relevance\": \"PARTLY\\_RELEVANT\",\\n\"Explana...    0   \n",
       "1   {\\n\"Relevance\": \"PARTLY\\_RELEVANT\",\\n\"Explana...    0   \n",
       "2   {\\n\"Relevance\": \"PARTLY_RELEVANT\",\\n\"Explanat...    0   \n",
       "3   {\\n\"Relevance\": \"PARTLY\\_RELEVANT\",\\n\"Explana...    0   \n",
       "4   {\\n\"Relevance\": \"PARTLY_RELEVANT\",\\n\"Explanat...    0   \n",
       "\n",
       "                                            question         Relevance  \\\n",
       "0  What are your availability and suggestions for...  PARTLY\\_RELEVANT   \n",
       "1  Can we confirm a specific time and place for o...  PARTLY\\_RELEVANT   \n",
       "2  What activities would you propose for us to do...   PARTLY_RELEVANT   \n",
       "3  Do you have any preferences or ideas for where...  PARTLY\\_RELEVANT   \n",
       "4  Is there anything in particular that you have ...   PARTLY_RELEVANT   \n",
       "\n",
       "                                         Explanation  \n",
       "0  The generated answer suggests activities that ...  \n",
       "1  The generated answer acknowledges the need to ...  \n",
       "2  The generated answer proposes two activities: ...  \n",
       "3  The generated answer does contain suggestions ...  \n",
       "4  The generated answer suggests activities (tryi...  "
      ]
     },
     "execution_count": 11,
     "metadata": {},
     "output_type": "execute_result"
    }
   ],
   "source": [
    "mis_eval.head()"
   ]
  },
  {
   "cell_type": "code",
   "execution_count": 12,
   "id": "bb5f4107-b677-46cd-84eb-24127a3dfa5f",
   "metadata": {},
   "outputs": [],
   "source": [
    "del mis_eval['record']\n",
    "del mis_eval['evaluation']"
   ]
  },
  {
   "cell_type": "code",
   "execution_count": 14,
   "id": "7df09a66-1c41-4071-b86a-8f8ad7189461",
   "metadata": {},
   "outputs": [
    {
     "name": "stdout",
     "output_type": "stream",
     "text": [
      "Relevance\n",
      "PARTLY_RELEVANT       1763\n",
      "PARTLY\\_RELEVANT       660\n",
      "RELEVANT               626\n",
      "NON_RELEVANT            29\n",
      " PARTLY\\_RELEVANT        9\n",
      "NON\\_RELEVANT            3\n",
      " PARTLY\\_RELEVANT        3\n",
      "Name: count, dtype: int64\n"
     ]
    }
   ],
   "source": [
    "print(mis_eval.Relevance.value_counts())"
   ]
  },
  {
   "cell_type": "markdown",
   "id": "32e11077-8778-4dda-b229-281cd378b68e",
   "metadata": {},
   "source": [
    "### Mistral 7b Evaluation Result\n",
    "\n",
    "RELEVANT - 626 (20.23 %)\n",
    "\n",
    "PARTLY_RELEVANT - 2435 (78.72 %)\n",
    "\n",
    "NON_RELEVANT - 32 (1.03 %)"
   ]
  },
  {
   "cell_type": "code",
   "execution_count": 20,
   "id": "12b30cc0-eff6-4b36-8ff1-f5e05f80a249",
   "metadata": {},
   "outputs": [],
   "source": [
    "# Gemma2\n",
    "gemma_eval = pd.read_csv('../Data/rag-eval-gemma2.csv')"
   ]
  },
  {
   "cell_type": "code",
   "execution_count": 21,
   "id": "6cd0241c-6c01-4e6c-804c-f48cf9238a73",
   "metadata": {},
   "outputs": [
    {
     "data": {
      "text/html": [
       "<div>\n",
       "<style scoped>\n",
       "    .dataframe tbody tr th:only-of-type {\n",
       "        vertical-align: middle;\n",
       "    }\n",
       "\n",
       "    .dataframe tbody tr th {\n",
       "        vertical-align: top;\n",
       "    }\n",
       "\n",
       "    .dataframe thead th {\n",
       "        text-align: right;\n",
       "    }\n",
       "</style>\n",
       "<table border=\"1\" class=\"dataframe\">\n",
       "  <thead>\n",
       "    <tr style=\"text-align: right;\">\n",
       "      <th></th>\n",
       "      <th>record</th>\n",
       "      <th>answer</th>\n",
       "      <th>evaluation</th>\n",
       "    </tr>\n",
       "  </thead>\n",
       "  <tbody>\n",
       "    <tr>\n",
       "      <th>0</th>\n",
       "      <td>{'Question': 'What are your availability and s...</td>\n",
       "      <td>I'm free all day tomorrow!  What do you have i...</td>\n",
       "      <td>{\\n\"Relevance\": \"RELEVANT\",\\n\"Explanation\": \"T...</td>\n",
       "    </tr>\n",
       "    <tr>\n",
       "      <th>1</th>\n",
       "      <td>{'Question': 'Can we confirm a specific time a...</td>\n",
       "      <td>Hmm,  let me see what my schedule looks like. ...</td>\n",
       "      <td>```json\\n{\\n\"Relevance\": \"PARTLY_RELEVANT\",\\n\"...</td>\n",
       "    </tr>\n",
       "    <tr>\n",
       "      <th>2</th>\n",
       "      <td>{'Question': 'What activities would you propos...</td>\n",
       "      <td>Ooh, that's a fun question!  I've been thinkin...</td>\n",
       "      <td>{\\n\"Relevance\": \"RELEVANT\",\\n\"Explanation\": \"T...</td>\n",
       "    </tr>\n",
       "    <tr>\n",
       "      <th>3</th>\n",
       "      <td>{'Question': 'Do you have any preferences or i...</td>\n",
       "      <td>Hmmm, I was thinking something fun and a littl...</td>\n",
       "      <td>{\\n\"Relevance\": \"RELEVANT\",\\n\"Explanation\": \"T...</td>\n",
       "    </tr>\n",
       "    <tr>\n",
       "      <th>4</th>\n",
       "      <td>{'Question': 'Is there anything in particular ...</td>\n",
       "      <td>Hmm, well maybe something a little  *spicy*? 😉...</td>\n",
       "      <td>{\\n\"Relevance\": \"NON_RELEVANT\",\\n\"Explanation\"...</td>\n",
       "    </tr>\n",
       "    <tr>\n",
       "      <th>...</th>\n",
       "      <td>...</td>\n",
       "      <td>...</td>\n",
       "      <td>...</td>\n",
       "    </tr>\n",
       "    <tr>\n",
       "      <th>3088</th>\n",
       "      <td>{'Question': 'Why is maintaining a playful and...</td>\n",
       "      <td>Because life's too short to be serious all the...</td>\n",
       "      <td>{\\n\"Relevance\": \"PARTLY_RELEVANT\",\\n\"Explanati...</td>\n",
       "    </tr>\n",
       "    <tr>\n",
       "      <th>3089</th>\n",
       "      <td>{'Question': 'In what ways does laughter and f...</td>\n",
       "      <td>Laughter is like sunshine, it warms our connec...</td>\n",
       "      <td>{\\n\"Relevance\": \"RELEVANT\",\\n\"Explanation\": \"T...</td>\n",
       "    </tr>\n",
       "    <tr>\n",
       "      <th>3090</th>\n",
       "      <td>{'Question': \"How can we ensure that we keep o...</td>\n",
       "      <td>With laughter, silly inside jokes, and remembe...</td>\n",
       "      <td>{\\n\"Relevance\": \"RELEVANT\",\\n\"Explanation\": \"T...</td>\n",
       "    </tr>\n",
       "    <tr>\n",
       "      <th>3091</th>\n",
       "      <td>{'Question': 'What role do humor and playfulne...</td>\n",
       "      <td>They help us keep things light, even when thin...</td>\n",
       "      <td>{\\n\"Relevance\": \"RELEVANT\",\\n\"Explanation\": \"T...</td>\n",
       "    </tr>\n",
       "    <tr>\n",
       "      <th>3092</th>\n",
       "      <td>{'Question': 'Can you explain the significance...</td>\n",
       "      <td>It keeps things light and playful, even when w...</td>\n",
       "      <td>{\\n\"Relevance\": \"RELEVANT\",\\n\"Explanation\": \"T...</td>\n",
       "    </tr>\n",
       "  </tbody>\n",
       "</table>\n",
       "<p>3093 rows × 3 columns</p>\n",
       "</div>"
      ],
      "text/plain": [
       "                                                 record  \\\n",
       "0     {'Question': 'What are your availability and s...   \n",
       "1     {'Question': 'Can we confirm a specific time a...   \n",
       "2     {'Question': 'What activities would you propos...   \n",
       "3     {'Question': 'Do you have any preferences or i...   \n",
       "4     {'Question': 'Is there anything in particular ...   \n",
       "...                                                 ...   \n",
       "3088  {'Question': 'Why is maintaining a playful and...   \n",
       "3089  {'Question': 'In what ways does laughter and f...   \n",
       "3090  {'Question': \"How can we ensure that we keep o...   \n",
       "3091  {'Question': 'What role do humor and playfulne...   \n",
       "3092  {'Question': 'Can you explain the significance...   \n",
       "\n",
       "                                                 answer  \\\n",
       "0     I'm free all day tomorrow!  What do you have i...   \n",
       "1     Hmm,  let me see what my schedule looks like. ...   \n",
       "2     Ooh, that's a fun question!  I've been thinkin...   \n",
       "3     Hmmm, I was thinking something fun and a littl...   \n",
       "4     Hmm, well maybe something a little  *spicy*? 😉...   \n",
       "...                                                 ...   \n",
       "3088  Because life's too short to be serious all the...   \n",
       "3089  Laughter is like sunshine, it warms our connec...   \n",
       "3090  With laughter, silly inside jokes, and remembe...   \n",
       "3091  They help us keep things light, even when thin...   \n",
       "3092  It keeps things light and playful, even when w...   \n",
       "\n",
       "                                             evaluation  \n",
       "0     {\\n\"Relevance\": \"RELEVANT\",\\n\"Explanation\": \"T...  \n",
       "1     ```json\\n{\\n\"Relevance\": \"PARTLY_RELEVANT\",\\n\"...  \n",
       "2     {\\n\"Relevance\": \"RELEVANT\",\\n\"Explanation\": \"T...  \n",
       "3     {\\n\"Relevance\": \"RELEVANT\",\\n\"Explanation\": \"T...  \n",
       "4     {\\n\"Relevance\": \"NON_RELEVANT\",\\n\"Explanation\"...  \n",
       "...                                                 ...  \n",
       "3088  {\\n\"Relevance\": \"PARTLY_RELEVANT\",\\n\"Explanati...  \n",
       "3089  {\\n\"Relevance\": \"RELEVANT\",\\n\"Explanation\": \"T...  \n",
       "3090  {\\n\"Relevance\": \"RELEVANT\",\\n\"Explanation\": \"T...  \n",
       "3091  {\\n\"Relevance\": \"RELEVANT\",\\n\"Explanation\": \"T...  \n",
       "3092  {\\n\"Relevance\": \"RELEVANT\",\\n\"Explanation\": \"T...  \n",
       "\n",
       "[3093 rows x 3 columns]"
      ]
     },
     "execution_count": 21,
     "metadata": {},
     "output_type": "execute_result"
    }
   ],
   "source": [
    "gemma_eval"
   ]
  },
  {
   "cell_type": "code",
   "execution_count": 22,
   "id": "c31e7ffc-b720-48c7-948d-b50e2b02ac38",
   "metadata": {},
   "outputs": [],
   "source": [
    "gemma_eval[['Relevance', 'Explanation']] = gemma_eval['evaluation'].apply(lambda x: pd.Series(extract_columns(x)))"
   ]
  },
  {
   "cell_type": "code",
   "execution_count": 24,
   "id": "b4a54ea4-55be-4576-9398-c8b1714fbf24",
   "metadata": {},
   "outputs": [],
   "source": [
    "del gemma_eval['record']\n",
    "del gemma_eval['evaluation']"
   ]
  },
  {
   "cell_type": "code",
   "execution_count": 25,
   "id": "d8db4513-441a-4768-81c1-fecf154d4567",
   "metadata": {},
   "outputs": [
    {
     "name": "stdout",
     "output_type": "stream",
     "text": [
      "Relevance\n",
      "RELEVANT           1546\n",
      "PARTLY_RELEVANT    1454\n",
      "NON_RELEVANT         93\n",
      "Name: count, dtype: int64\n"
     ]
    }
   ],
   "source": [
    "print(gemma_eval.Relevance.value_counts())"
   ]
  },
  {
   "cell_type": "code",
   "execution_count": 26,
   "id": "d4f16096-7f97-479b-862f-1455e6835963",
   "metadata": {},
   "outputs": [
    {
     "name": "stdout",
     "output_type": "stream",
     "text": [
      "Relevance\n",
      "RELEVANT           0.499838\n",
      "PARTLY_RELEVANT    0.470094\n",
      "NON_RELEVANT       0.030068\n",
      "Name: proportion, dtype: float64\n"
     ]
    }
   ],
   "source": [
    "print(gemma_eval.Relevance.value_counts(normalize=True))"
   ]
  },
  {
   "cell_type": "markdown",
   "id": "33a238d1-a1bb-411c-95d0-5809fa083fa8",
   "metadata": {},
   "source": [
    "### Gemma2 9b Evaluation Result\n",
    "\n",
    "RELEVANT - 1546 (49.98 %)\n",
    "\n",
    "PARTLY_RELEVANT - 1454 (47.00 %)\n",
    "\n",
    "NON_RELEVANT - 93 (3.06 %)"
   ]
  },
  {
   "cell_type": "code",
   "execution_count": null,
   "id": "e4eea800-61ae-4228-8701-0de46a40d88f",
   "metadata": {},
   "outputs": [],
   "source": []
  }
 ],
 "metadata": {
  "kernelspec": {
   "display_name": "Python 3 (ipykernel)",
   "language": "python",
   "name": "python3"
  },
  "language_info": {
   "codemirror_mode": {
    "name": "ipython",
    "version": 3
   },
   "file_extension": ".py",
   "mimetype": "text/x-python",
   "name": "python",
   "nbconvert_exporter": "python",
   "pygments_lexer": "ipython3",
   "version": "3.11.0"
  }
 },
 "nbformat": 4,
 "nbformat_minor": 5
}
